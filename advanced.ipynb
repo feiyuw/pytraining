{
 "cells": [
  {
   "cell_type": "markdown",
   "metadata": {
    "slideshow": {
     "slide_type": "slide"
    }
   },
   "source": [
    "# Python Advanced\n",
    "\n",
    "![python](https://upload.wikimedia.org/wikipedia/commons/c/c3/Python-logo-notext.svg)"
   ]
  },
  {
   "cell_type": "markdown",
   "metadata": {
    "slideshow": {
     "slide_type": "slide"
    }
   },
   "source": [
    "## Socket"
   ]
  },
  {
   "cell_type": "markdown",
   "metadata": {
    "slideshow": {
     "slide_type": "subslide"
    }
   },
   "source": [
    "### Example: echo server"
   ]
  },
  {
   "cell_type": "code",
   "execution_count": null,
   "metadata": {
    "slideshow": {
     "slide_type": "subslide"
    }
   },
   "outputs": [],
   "source": [
    "# simplest version\n",
    "import socket\n",
    "\n",
    "sock = socket.socket(socket.AF_INET, socket.SOCK_STREAM)\n",
    "sock.setsockopt(socket.SOL_SOCKET, socket.SO_REUSEPORT, 1) # reuse port in multiple sockets\n",
    "sock.bind(('127.0.0.1', 50070))\n",
    "sock.listen(5)\n",
    "\n",
    "conn, addr = sock.accept()\n",
    "print 'Connected by', addr\n",
    "while True:\n",
    "    data = conn.recv(1024)\n",
    "    if not data: break\n",
    "    conn.send(data)\n",
    "conn.close()"
   ]
  },
  {
   "cell_type": "code",
   "execution_count": null,
   "metadata": {
    "slideshow": {
     "slide_type": "subslide"
    }
   },
   "outputs": [],
   "source": [
    "# multi threading\n",
    "import socket\n",
    "from thread import start_new_thread\n",
    "\n",
    "sock = socket.socket(socket.AF_INET, socket.SOCK_STREAM)\n",
    "sock.setsockopt(socket.SOL_SOCKET, socket.SO_REUSEPORT, 1) # reuse port in multiple sockets\n",
    "sock.bind(('127.0.0.1', 50070))\n",
    "sock.listen(5)\n",
    "\n",
    "def _handle_conn(conn):\n",
    "    while True:\n",
    "        data = conn.recv(1024)\n",
    "        if not data: break\n",
    "        conn.send(data)\n",
    "    conn.close()\n",
    "    \n",
    "while True:\n",
    "    conn, addr = sock.accept()\n",
    "    print 'Connected by', addr\n",
    "    start_new_thread(_handle_conn, (conn,))"
   ]
  },
  {
   "cell_type": "code",
   "execution_count": null,
   "metadata": {
    "slideshow": {
     "slide_type": "subslide"
    }
   },
   "outputs": [],
   "source": [
    "# asyncore\n",
    "import asyncore\n",
    "import socket\n",
    "\n",
    "class EchoHandler(asyncore.dispatcher_with_send):\n",
    "    def handle_read(self):\n",
    "        data = self.recv(8192)\n",
    "        if data:\n",
    "            self.send(data)\n",
    "\n",
    "class EchoServer(asyncore.dispatcher):\n",
    "    def __init__(self, host, port):\n",
    "        asyncore.dispatcher.__init__(self)\n",
    "        self.create_socket(socket.AF_INET, socket.SOCK_STREAM)\n",
    "        self.set_reuse_addr()\n",
    "        self.bind((host, port))\n",
    "        self.listen(5)\n",
    "\n",
    "    def handle_accept(self):\n",
    "        pair = self.accept()\n",
    "        if pair is not None:\n",
    "            sock, addr = pair\n",
    "            print 'Incoming connection from %s' % repr(addr)\n",
    "            handler = EchoHandler(sock)\n",
    "\n",
    "server = EchoServer('localhost', 50071)\n",
    "server2 = EchoServer('localhost', 50072)\n",
    "asyncore.loop()"
   ]
  },
  {
   "cell_type": "code",
   "execution_count": null,
   "metadata": {
    "slideshow": {
     "slide_type": "subslide"
    }
   },
   "outputs": [],
   "source": [
    "# gevent\n",
    "from gevent.server import StreamServer\n",
    "\n",
    "def echo(socket, address):\n",
    "    print('New connection from %s:%s' % address)\n",
    "    # using a makefile because we want to use readline()\n",
    "    with socket.makefile(mode='rb') as rfileobj:\n",
    "        while True:\n",
    "            line = rfileobj.readline()\n",
    "            if not line:\n",
    "                break\n",
    "            socket.sendall(line)\n",
    "    print('%s:%s disconnected' % address)\n",
    "\n",
    "server = StreamServer(('0.0.0.0', 50070), echo)\n",
    "server.serve_forever()"
   ]
  },
  {
   "cell_type": "markdown",
   "metadata": {
    "slideshow": {
     "slide_type": "slide"
    }
   },
   "source": [
    "## Multi Threading"
   ]
  },
  {
   "cell_type": "code",
   "execution_count": null,
   "metadata": {
    "slideshow": {
     "slide_type": "subslide"
    }
   },
   "outputs": [],
   "source": [
    "# thread\n",
    "import thread\n",
    "from time import sleep\n",
    "\n",
    "def sleep_echo(sleep_interval, msg):\n",
    "    sleep(sleep_interval)\n",
    "    print msg\n",
    "\n",
    "thread.start_new_thread(sleep_echo, (2, 'hello'))\n",
    "print 'world'"
   ]
  },
  {
   "cell_type": "code",
   "execution_count": null,
   "metadata": {
    "slideshow": {
     "slide_type": "subslide"
    }
   },
   "outputs": [],
   "source": [
    "# threading\n",
    "from threading import Thread\n",
    "from time import sleep\n",
    "\n",
    "class DelayEcho(Thread):\n",
    "    def __init__(self, interval, msg):\n",
    "        super(DelayEcho, self).__init__()\n",
    "        self.interval = interval\n",
    "        self.msg = msg\n",
    "        self.daemon = True\n",
    "        \n",
    "    def run(self):\n",
    "        sleep(self.interval)\n",
    "        print self.msg\n",
    "\n",
    "t = DelayEcho(2, 'hello')\n",
    "t.start()\n",
    "t.join()\n",
    "print 'world'"
   ]
  },
  {
   "cell_type": "code",
   "execution_count": null,
   "metadata": {
    "slideshow": {
     "slide_type": "subslide"
    }
   },
   "outputs": [],
   "source": [
    "# threading.Lock\n",
    "import threading\n",
    "from threading import Lock\n",
    "from threading import Thread\n",
    "\n",
    "resource_lock = Lock()\n",
    "\n",
    "def update_resource():\n",
    "    with resource_lock:\n",
    "        print threading.currentThread().name\n",
    "        \n",
    "threads = map(lambda x: Thread(target=update_resource), xrange(10))\n",
    "[t.start() for t in threads]\n",
    "[t.join() for t in threads]\n",
    "print 'main'"
   ]
  },
  {
   "cell_type": "code",
   "execution_count": null,
   "metadata": {
    "scrolled": true,
    "slideshow": {
     "slide_type": "subslide"
    }
   },
   "outputs": [],
   "source": [
    "# threading.local\n",
    "import threading\n",
    "from time import sleep\n",
    "\n",
    "_lock = threading.Lock()\n",
    "resource = threading.local()\n",
    "resource.name = 'default'\n",
    "\n",
    "def update_resource():\n",
    "    resource.name = threading.currentThread().name\n",
    "    sleep(1)\n",
    "    with _lock:\n",
    "        print resource.name # each thread as its one value\n",
    "\n",
    "threads = map(lambda x: Thread(target=update_resource), xrange(5))\n",
    "[t.start() for t in threads]\n",
    "[t.join() for t in threads]\n",
    "print resource.name"
   ]
  },
  {
   "cell_type": "code",
   "execution_count": null,
   "metadata": {
    "slideshow": {
     "slide_type": "subslide"
    }
   },
   "outputs": [],
   "source": [
    "# Queue\n",
    "from Queue import Queue\n",
    "from threading import Thread\n",
    "\n",
    "q = Queue()\n",
    "\n",
    "def setter(q, v):\n",
    "    q.put(v)\n",
    "\n",
    "def getter(q):\n",
    "    print q.get()\n",
    "    \n",
    "_setter = Thread(target=setter, args=(q, 1))\n",
    "_getter = Thread(target=getter, args=(q, ))\n",
    "_getter.start()\n",
    "_setter.start()\n",
    "_getter.join()\n",
    "_setter.join()"
   ]
  },
  {
   "cell_type": "code",
   "execution_count": null,
   "metadata": {
    "slideshow": {
     "slide_type": "subslide"
    }
   },
   "outputs": [],
   "source": [
    "from Queue import LifoQueue\n",
    "\n",
    "q = LifoQueue()\n",
    "q.put(1)\n",
    "q.put(2)\n",
    "print q.get()\n",
    "print q.get()"
   ]
  },
  {
   "cell_type": "code",
   "execution_count": null,
   "metadata": {
    "slideshow": {
     "slide_type": "subslide"
    }
   },
   "outputs": [],
   "source": [
    "from Queue import PriorityQueue\n",
    "\n",
    "q = PriorityQueue()\n",
    "q.put((1, 'a'))\n",
    "q.put((3, 'b'))\n",
    "q.put((2, 'c'))\n",
    "\n",
    "print q.get()\n",
    "print q.get()\n",
    "print q.get()"
   ]
  },
  {
   "cell_type": "markdown",
   "metadata": {
    "slideshow": {
     "slide_type": "subslide"
    }
   },
   "source": [
    "### Limitation of Thread"
   ]
  },
  {
   "cell_type": "markdown",
   "metadata": {
    "slideshow": {
     "slide_type": "fragment"
    }
   },
   "source": [
    "* No stop/interrupt\n",
    "* No multi-core support"
   ]
  },
  {
   "cell_type": "markdown",
   "metadata": {
    "collapsed": true,
    "slideshow": {
     "slide_type": "slide"
    }
   },
   "source": [
    "## Multi Processing"
   ]
  },
  {
   "cell_type": "code",
   "execution_count": null,
   "metadata": {
    "slideshow": {
     "slide_type": "subslide"
    }
   },
   "outputs": [],
   "source": [
    "# multiprocessing\n",
    "from multiprocessing import Process\n",
    "from time import sleep\n",
    "\n",
    "def delay_echo(interval, msg):\n",
    "    sleep(interval)\n",
    "    print msg\n",
    "    \n",
    "p = Process(target=delay_echo, args=(2, 'hello'))\n",
    "p.start()\n",
    "print 'world'\n",
    "p.join()"
   ]
  },
  {
   "cell_type": "code",
   "execution_count": null,
   "metadata": {
    "scrolled": true,
    "slideshow": {
     "slide_type": "subslide"
    }
   },
   "outputs": [],
   "source": [
    "# Pool\n",
    "import urllib\n",
    "from multiprocessing import Pool\n",
    "# from multiprocessing.dummy import Pool\n",
    "from time import sleep\n",
    "\n",
    "urls = ['http://www.google.com',\n",
    "        'http://www.facebook.com',\n",
    "        'http://www.baidu.com']\n",
    "\n",
    "def fetch_content(url):\n",
    "    sleep(1)\n",
    "    print url\n",
    "    print len(urllib.urlopen(url).read())\n",
    "    \n",
    "pool = Pool()\n",
    "pool.map(fetch_content, urls)\n",
    "pool.close()\n",
    "pool.join()"
   ]
  },
  {
   "cell_type": "code",
   "execution_count": null,
   "metadata": {
    "slideshow": {
     "slide_type": "subslide"
    }
   },
   "outputs": [],
   "source": [
    "# Queue\n",
    "from multiprocessing import Queue\n",
    "# Lock\n",
    "from multiprocessing import Lock"
   ]
  },
  {
   "cell_type": "markdown",
   "metadata": {
    "slideshow": {
     "slide_type": "slide"
    }
   },
   "source": [
    "## Coroutine"
   ]
  },
  {
   "cell_type": "code",
   "execution_count": null,
   "metadata": {
    "slideshow": {
     "slide_type": "subslide"
    }
   },
   "outputs": [],
   "source": [
    "# yield\n",
    "def fibonacci():\n",
    "    a, b = 1, 1\n",
    "    yield a\n",
    "    yield b\n",
    "    while True:\n",
    "        a, b = b, a+b\n",
    "        yield b\n",
    "\n",
    "fib = fibonacci()\n",
    "for _ in xrange(20):\n",
    "    print fib.next()"
   ]
  },
  {
   "cell_type": "code",
   "execution_count": null,
   "metadata": {
    "slideshow": {
     "slide_type": "subslide"
    }
   },
   "outputs": [],
   "source": [
    "# yield send\n",
    "def puzzle_game():\n",
    "    while True:\n",
    "        answer = (yield 'type a word: ')\n",
    "        if answer == 'harry':\n",
    "            yield 'you got it'\n",
    "        else:\n",
    "            yield 'try again'\n",
    "            \n",
    "game = puzzle_game()\n",
    "game.next()\n",
    "game.send('jerry')\n",
    "game.next()\n",
    "game.send('harry')"
   ]
  },
  {
   "cell_type": "code",
   "execution_count": null,
   "metadata": {
    "slideshow": {
     "slide_type": "subslide"
    }
   },
   "outputs": [],
   "source": [
    "# gevent, tornado\n",
    "import gevent\n",
    "\n",
    "def delay_echo(msg):\n",
    "    gevent.sleep(2)\n",
    "    print msg\n",
    "    \n",
    "gevent.spawn(delay_echo, 'hello world')\n",
    "gevent.spawn(delay_echo, 'how are you')\n",
    "gevent.wait()"
   ]
  },
  {
   "cell_type": "markdown",
   "metadata": {
    "slideshow": {
     "slide_type": "subslide"
    }
   },
   "source": [
    "**In Python3, there is builtin coroutine support from [asyncio](//docs.python.org/3.5/library/asyncio.html#module-asyncio) module**"
   ]
  },
  {
   "cell_type": "markdown",
   "metadata": {
    "slideshow": {
     "slide_type": "slide"
    }
   },
   "source": [
    "## setup.py and pip"
   ]
  },
  {
   "cell_type": "markdown",
   "metadata": {
    "slideshow": {
     "slide_type": "subslide"
    }
   },
   "source": [
    "### Python project structure"
   ]
  },
  {
   "cell_type": "markdown",
   "metadata": {
    "slideshow": {
     "slide_type": "fragment"
    }
   },
   "source": [
    "![project_structure](/files/images/project_structure.svg)"
   ]
  },
  {
   "cell_type": "code",
   "execution_count": null,
   "metadata": {
    "slideshow": {
     "slide_type": "subslide"
    }
   },
   "outputs": [],
   "source": [
    "# setup.py example\n",
    "import os\n",
    "from setuptools import setup\n",
    "from distutils.command.install import install\n",
    "\n",
    "class _MyInstall(install):\n",
    "    def run(self):\n",
    "        self._generate_proto_modules()\n",
    "        install.run(self)\n",
    "\n",
    "    def _generate_proto_modules(self):\n",
    "        from nbs.im.proto_generator import generate_proto_from_xml\n",
    "        curdir = os.path.dirname(__file__)\n",
    "        with open(os.path.join(curdir, 'src', 'nbs', 'im', 'meta.xml')) as fp:\n",
    "            meta_content = fp.read()\n",
    "        generate_proto_from_xml([meta_content], os.path.join(curdir, 'src', 'nbs', 'im', 'proto'))\n",
    "\n",
    "setup(\n",
    "    name='nbs',\n",
    "    version='0.1.2',\n",
    "    description='Netact simulator',\n",
    "    author='',\n",
    "    author_email='',\n",
    "    url='http://gitlab.china.nsn-net.net/ta/nbs',\n",
    "    package_dir={'': 'src'},\n",
    "    install_requires=['pysimplesoap', 'protobuf'], # NOTE: use git+https://github.com/lybicat/pysimplesoap.git\n",
    "    packages=['nbs',\n",
    "              'nbs.im',\n",
    "              'nbs.im.proto',\n",
    "              'NbsLibrary',\n",
    "              ],\n",
    "    package_data={'':['*.ini', '*.wsdl','*.xsd','*.xml']},\n",
    "    data_files=[('nbs', ['src/nbs/logging.ini', 'src/nbs/ne3s.wsdl', 'src/nbs/swaref.xsd', 'src/nbs/im/meta.xml'])],\n",
    "    platforms='any',\n",
    "    cmdclass={'install': _MyInstall},\n",
    ")"
   ]
  },
  {
   "cell_type": "raw",
   "metadata": {
    "slideshow": {
     "slide_type": "notes"
    }
   },
   "source": [
    "➜  nbs git:(master) python setup.py --help-commands\n",
    "Standard commands:\n",
    "  build             build everything needed to install\n",
    "  build_py          \"build\" pure Python modules (copy to build directory)\n",
    "  build_ext         build C/C++ and Cython extensions (compile/link to build directory)\n",
    "  build_clib        build C/C++ libraries used by Python extensions\n",
    "  build_scripts     \"build\" scripts (copy and fixup #! line)\n",
    "  clean             clean up temporary files from 'build' command\n",
    "  install           install everything from build directory\n",
    "  install_lib       install all Python modules (extensions and pure Python)\n",
    "  install_headers   install C/C++ header files\n",
    "  install_scripts   install scripts (Python or otherwise)\n",
    "  install_data      install data files\n",
    "  sdist             create a source distribution (tarball, zip file, etc.)\n",
    "  register          register the distribution with the Python package index\n",
    "  bdist             create a built (binary) distribution\n",
    "  bdist_dumb        create a \"dumb\" built distribution\n",
    "  bdist_rpm         create an RPM distribution\n",
    "  bdist_wininst     create an executable installer for MS Windows\n",
    "  upload            upload binary package to PyPI\n",
    "  check             perform some checks on the package\n",
    "\n",
    "Extra commands:\n",
    "  saveopts          save supplied options to setup.cfg or other config file\n",
    "  testr             Run unit tests using testr\n",
    "  develop           install package in 'development mode'\n",
    "  upload_docs       Upload documentation to PyPI\n",
    "  isort             Run isort on modules registered in setuptools\n",
    "  test              run unit tests after in-place build\n",
    "  setopt            set an option in setup.cfg or another config file\n",
    "  nosetests         Run unit tests using nosetests\n",
    "  install_egg_info  Install an .egg-info directory for the package\n",
    "  rotate            delete older distributions, keeping N newest files\n",
    "  bdist_wheel       create a wheel distribution\n",
    "  egg_info          create a distribution's .egg-info directory\n",
    "  alias             define a shortcut to invoke one or more commands\n",
    "  easy_install      Find/get/install Python packages\n",
    "  bdist_egg         create an \"egg\" distribution\n",
    "\n",
    "usage: setup.py [global_opts] cmd1 [cmd1_opts] [cmd2 [cmd2_opts] ...]\n",
    "   or: setup.py --help [cmd1 cmd2 ...]\n",
    "   or: setup.py --help-commands\n",
    "   or: setup.py cmd --help"
   ]
  },
  {
   "cell_type": "markdown",
   "metadata": {
    "slideshow": {
     "slide_type": "subslide"
    }
   },
   "source": [
    "```yaml\n",
    "# .gitlab-ci.yml\n",
    "stages:\n",
    "    - test\n",
    "    - deployment\n",
    "\n",
    "utest:\n",
    "    stage: test\n",
    "    script:\n",
    "        - make test\n",
    "\n",
    "deployment:\n",
    "    only:\n",
    "        - tags\n",
    "    script:\n",
    "        - make package\n",
    "        - sshpass -p passwd scp -o StrictHostKeyChecking=no dist/nbs-*.tar.gz user@10.2.3.4:/opt/pypiserver/packages # python setup.py upload may be better\n",
    "```"
   ]
  },
  {
   "cell_type": "markdown",
   "metadata": {
    "slideshow": {
     "slide_type": "slide"
    }
   },
   "source": [
    "## Unit Testing and TDD"
   ]
  },
  {
   "cell_type": "markdown",
   "metadata": {
    "slideshow": {
     "slide_type": "subslide"
    }
   },
   "source": [
    "![learning curve](//ifconfiger.com/media/programming_language_learning_curves_python.png?fileid=a9e2ae2d1a3c8d837beee6ee478df9d96592fdcb22837d72ff18e5be1c23bc48)"
   ]
  },
  {
   "cell_type": "markdown",
   "metadata": {
    "slideshow": {
     "slide_type": "subslide"
    }
   },
   "source": [
    "### Why \"Unit Testing\" is so important in Python"
   ]
  },
  {
   "cell_type": "markdown",
   "metadata": {
    "slideshow": {
     "slide_type": "subslide"
    }
   },
   "source": [
    "### Simple Example"
   ]
  },
  {
   "cell_type": "markdown",
   "metadata": {
    "slideshow": {
     "slide_type": "subslide"
    }
   },
   "source": [
    "### Bowling Game\n",
    "\n",
    "#### Description:\n",
    "\n",
    "Write a program to score a game of Ten-Pin Bowling.\n",
    "\n",
    "Input: string (described below) representing a bowling game\n",
    "Ouput: integer score\n",
    "\n",
    "The scoring rules:\n",
    "\n",
    "> Each game, or \"line\" of bowling, includes ten turns, or \"frames\" for the bowler.\n",
    "> \n",
    "> In each frame, the bowler gets up to two tries to knock down all ten pins.\n",
    "> \n",
    "> If the first ball in a frame knocks down all ten pins, this is called a \"strike\". The frame is over. The score for the frame is ten plus the total of the pins knocked down in the next two balls.\n",
    "> \n",
    "> If the second ball in a frame knocks down all ten pins, this is called a \"spare\". The frame is over. The score for the frame is ten plus the number of pins knocked down in the next ball.\n",
    "> \n",
    "> If, after both balls, there is still at least one of the ten pins standing the score for that frame is simply the total number of pins knocked down in those two balls.\n",
    "> \n",
    "> If you get a spare in the last (10th) frame you get one more bonus ball. If you get a strike in the last(10th) frame you get two more bonus balls. These bonus throws are taken as part of the same turn. If a bonus ball knocks down all the pins, the process does not repeat. The bonus balls are only used to calculate the score of the final frame.\n",
    "\n",
    "The game score is the total of all frame scores.\n",
    "\n",
    "#### Examples:\n",
    "\n",
    "* X indicates a strike\n",
    "* / indicates a spare\n",
    "* - indicates a miss\n",
    "* | indicates a frame boundary\n",
    "* The characters after the || indicate bonus balls\n",
    "\n",
    "X|X|X|X|X|X|X|X|X|X||XX\n",
    "\n",
    "* Ten strikes on the first ball of all ten frames.\n",
    "* Two bonus balls, both strikes.\n",
    "\n",
    "Score for each frame == 10 + score for next two \n",
    "\n",
    "balls == 10 + 10 + 10 == 30\n",
    "\n",
    "Total score == 10 frames x 30 == 300\n",
    "\n",
    "9-|9-|9-|9-|9-|9-|9-|9-|9-|9-||\n",
    "\n",
    "* Nine pins hit on the first ball of all ten frames.\n",
    "* Second ball of each frame misses last remaining pin.\n",
    "* No bonus balls.\n",
    "\n",
    "Score for each frame == 9\n",
    "\n",
    "Total score == 10 frames x 9 == 90\n",
    "\n",
    "5/|5/|5/|5/|5/|5/|5/|5/|5/|5/||5\n",
    "\n",
    "* Five pins on the first ball of all ten frames.\n",
    "* Second ball of each frame hits all five remaining pins, a spare.\n",
    "* One bonus ball, hits five pins.\n",
    "\n",
    "Score for each frame == 10 + score for next one\n",
    "\n",
    "ball == 10 + 5 == 15\n",
    "\n",
    "Total score == 10 frames x 15 == 150\n",
    "\n",
    "X|7/|9-|X|-8|8/|-6|X|X|X||81\n",
    "\n",
    "Total score == 167"
   ]
  },
  {
   "cell_type": "markdown",
   "metadata": {
    "collapsed": true,
    "slideshow": {
     "slide_type": "subslide"
    }
   },
   "source": [
    "```python\n",
    "# test_bowling.py\n",
    "import unittest\n",
    "from bowlling import get_bowlling_score\n",
    "\n",
    "\n",
    "class TestScore(unittest.TestCase):\n",
    "    def test_all_missing(self):\n",
    "        self._assert_score('--|--|--|--|--|--|--|--|--|--||', 0)\n",
    "        \n",
    "    def test_first_hit(self):\n",
    "        self._assert_score('1-|--|--|--|--|--|--|--|--|--||', 1)\n",
    "        \n",
    "    def test_one_spare(self):\n",
    "        self._assert_score('1/|--|--|--|--|--|--|--|--|--||', 10)\n",
    "        \n",
    "    def test_one_strike(self):\n",
    "        self._assert_score('X|--|--|--|--|--|--|--|--|--||', 10)\n",
    "        \n",
    "    def test_two_hits(self):\n",
    "        self._assert_score('12|--|--|--|--|--|--|--|--|--||', 3)\n",
    "        \n",
    "    def test_second_hit(self):\n",
    "        self._assert_score('-5|--|--|--|--|--|--|--|--|--||', 5)\n",
    "        \n",
    "    def test_two_frames_hit(self):\n",
    "        self._assert_score('13|1-|--|--|--|--|--|--|--|--||', 5)\n",
    "        \n",
    "    def test_multi_frames_hit(self):\n",
    "        self._assert_score('1-|1-|-2|33|--|11|-1|--|--|-1||', 14)\n",
    "        \n",
    "    def test_spare_with_bonus(self):\n",
    "        self._assert_score('1/|6-|--|--|--|--|--|--|--|--||', 22)\n",
    "        \n",
    "    def test_spare_with_bonus_2(self):\n",
    "        self._assert_score('1/|62|--|--|--|--|--|--|--|--||', 24)\n",
    "        \n",
    "    def test_strike_after_spare(self):\n",
    "        self._assert_score('1/|X|--|--|--|--|--|--|--|--||', 30)\n",
    "        \n",
    "    def test_strike_with_bonus(self):\n",
    "        self._assert_score('X|12|--|--|--|--|--|--|--|--||', 16)\n",
    "        \n",
    "    def test_strike_after_strike(self):\n",
    "        self._assert_score('X|X|12|--|--|--|--|--|--|--||', 37)\n",
    "        \n",
    "    def test_last_strike_with_bonus(self):\n",
    "        self._assert_score('--|--|--|--|--|--|--|--|X|X||12', 34)\n",
    "        \n",
    "    def test_last_spare_with_bonus(self):\n",
    "        self._assert_score('--|--|--|--|--|--|--|--|X|2/||2', 32)\n",
    "        \n",
    "    def test_last_all_strikes(self):\n",
    "        self._assert_score('--|--|--|--|--|--|--|--|X|X||XX', 60)\n",
    "        \n",
    "    def test_last_strike_after_spare(self):\n",
    "        self._assert_score('--|--|--|--|--|--|--|--|4/|X||XX', 50)\n",
    "\n",
    "    def _assert_score(self, score_str, expect_score):\n",
    "        self.assertEqual(get_bowlling_score(score_str), expect_score)\n",
    "\n",
    "        \n",
    "if __name__ == '__main__':\n",
    "    unittest.main()\n",
    "```"
   ]
  },
  {
   "cell_type": "markdown",
   "metadata": {
    "collapsed": true,
    "slideshow": {
     "slide_type": "subslide"
    }
   },
   "source": [
    "```python\n",
    "# bowling.py\n",
    "def get_bowlling_score(bowling_str):\n",
    "    frames = bowling_str.split('|')\n",
    "    return sum(get_frame_total_score(frames, index) for index in range(10))\n",
    "\n",
    "def get_subsequent_balls(frames, index):\n",
    "    return ''.join(frames[index+1:])\n",
    "\n",
    "def get_frame_total_score(frames, index):\n",
    "    if 'X' in frames[index]:\n",
    "        return get_ball_score(get_subsequent_balls(frames, index)[:2])+10\n",
    "    elif '/' in frames[index]:\n",
    "        return 10+get_ball_score(get_subsequent_balls(frames,index)[:1])\n",
    "    return get_ball_score(frames[index])\n",
    "\n",
    "def get_ball_score(balls):\n",
    "    if '/' in balls:\n",
    "        return 10\n",
    "    return sum({'-':0,'X':10,'1':1,'2':2,'3':3,'4':4,'5':5,'6':6,'7':7,'8':8,'9':9}[ball] for ball in balls)\n",
    "```"
   ]
  },
  {
   "cell_type": "markdown",
   "metadata": {
    "slideshow": {
     "slide_type": "subslide"
    }
   },
   "source": [
    "### Mock"
   ]
  },
  {
   "cell_type": "code",
   "execution_count": null,
   "metadata": {
    "slideshow": {
     "slide_type": "subslide"
    }
   },
   "outputs": [],
   "source": [
    "# mock\n",
    "import time\n",
    "\n",
    "def delay_print(msg, delay):\n",
    "    time.sleep(delay)\n",
    "    print msg\n",
    "    \n",
    "import unittest\n",
    "\n",
    "time.sleep = lambda x: True\n",
    "\n",
    "class TestDelayPrint(unittest.TestCase):\n",
    "    def test_delay_print_empty_string(self):\n",
    "        delay_print('', 5)\n",
    "            \n",
    "suite = unittest.TestLoader().loadTestsFromTestCase(TestDelayPrint)\n",
    "unittest.TextTestRunner().run(suite)"
   ]
  },
  {
   "cell_type": "code",
   "execution_count": null,
   "metadata": {
    "slideshow": {
     "slide_type": "subslide"
    }
   },
   "outputs": [],
   "source": [
    "# mock for thread\n",
    "from threading import Thread\n",
    "\n",
    "def echo_in_process(interval, msg):\n",
    "    from time import sleep\n",
    "    sleep(interval)\n",
    "    print msg\n",
    "\n",
    "import time\n",
    "time.sleep = lambda x: None # mock time.sleep\n",
    "\n",
    "t = Thread(target=echo_in_process, args=(5, 'hello world'))\n",
    "t.start()\n",
    "t.join()"
   ]
  },
  {
   "cell_type": "code",
   "execution_count": null,
   "metadata": {
    "slideshow": {
     "slide_type": "subslide"
    }
   },
   "outputs": [],
   "source": [
    "# mock in thread\n",
    "from threading import Thread\n",
    "\n",
    "def mock_in_thread():\n",
    "    import time\n",
    "    time.sleep = lambda x: None # mock time.sleep\n",
    "    print 'after mock'\n",
    "\n",
    "t = Thread(target=mock_in_thread)\n",
    "t.start()\n",
    "t.join()\n",
    "\n",
    "from time import sleep\n",
    "sleep(5)\n",
    "print 'hello world'"
   ]
  },
  {
   "cell_type": "code",
   "execution_count": null,
   "metadata": {
    "slideshow": {
     "slide_type": "subslide"
    }
   },
   "outputs": [],
   "source": [
    "# mock for child process\n",
    "import multiprocessing\n",
    "\n",
    "def echo_in_process(interval, msg):\n",
    "    from time import sleep\n",
    "    sleep(interval)\n",
    "    print msg\n",
    "    \n",
    "import time\n",
    "time.sleep = lambda x: None # mock time.sleep\n",
    "\n",
    "p = multiprocessing.Process(target=echo_in_process, args=(5, 'hello world'))\n",
    "p.start()\n",
    "p.join()"
   ]
  },
  {
   "cell_type": "markdown",
   "metadata": {
    "slideshow": {
     "slide_type": "slide"
    }
   },
   "source": [
    "## Big data analysis"
   ]
  },
  {
   "cell_type": "markdown",
   "metadata": {
    "slideshow": {
     "slide_type": "fragment"
    }
   },
   "source": [
    "* Memory\n",
    "* Index"
   ]
  },
  {
   "cell_type": "code",
   "execution_count": null,
   "metadata": {
    "slideshow": {
     "slide_type": "subslide"
    }
   },
   "outputs": [],
   "source": [
    "# iterator\n",
    "with open('access_10000.log') as fp:\n",
    "    for line in fp:\n",
    "        pass # proceed line\n",
    "\n",
    "d = {'a': 1, 'b': 2, 'c': 3}\n",
    "for k in d:\n",
    "    print k\n",
    "\n",
    "for k, v in d.iteritems():\n",
    "    print k, v\n",
    "\n",
    "from itertools import imap\n",
    "\n",
    "imap(int, ('0', '1', '2'))"
   ]
  },
  {
   "cell_type": "code",
   "execution_count": null,
   "metadata": {
    "slideshow": {
     "slide_type": "subslide"
    }
   },
   "outputs": [],
   "source": [
    "# numpy\n",
    "import numpy as np\n",
    "\n",
    "# 1 2 3\n",
    "# 4 5 6\n",
    "# 7 8 9\n",
    "metrix = np.array([[1,2,3], [4,5,6], [7,8,9]])\n",
    "metrix[:2, 1:] # slice\n",
    "metrix[:2, 1:] = 0\n",
    "metrix # view of data but not copy"
   ]
  },
  {
   "cell_type": "code",
   "execution_count": null,
   "metadata": {
    "slideshow": {
     "slide_type": "subslide"
    }
   },
   "outputs": [],
   "source": [
    "(metrix[:2, 1:] + 3) * 2 # broadcast"
   ]
  },
  {
   "cell_type": "code",
   "execution_count": null,
   "metadata": {
    "slideshow": {
     "slide_type": "subslide"
    }
   },
   "outputs": [],
   "source": [
    "bool_index = np.array([True, False, True])\n",
    "metrix[bool_index]"
   ]
  },
  {
   "cell_type": "code",
   "execution_count": null,
   "metadata": {
    "slideshow": {
     "slide_type": "subslide"
    }
   },
   "outputs": [],
   "source": [
    "metrix[metrix % 2 == 1]"
   ]
  },
  {
   "cell_type": "code",
   "execution_count": null,
   "metadata": {
    "slideshow": {
     "slide_type": "subslide"
    }
   },
   "outputs": [],
   "source": [
    "# statistics on ndarray\n",
    "print metrix.sum()\n",
    "print metrix[metrix % 2 == 1].mean()"
   ]
  },
  {
   "cell_type": "code",
   "execution_count": null,
   "metadata": {
    "scrolled": false,
    "slideshow": {
     "slide_type": "subslide"
    }
   },
   "outputs": [],
   "source": [
    "# pandas\n",
    "import pandas as pd\n",
    "\n",
    "data = pd.read_table('access_10000.log', sep=' ', names=[\n",
    "        'src', 'field2', 'field3', 'datetime', 'timezone', 'method', 'code', 'length', 'referer', 'agent'])\n",
    "del data['field2']\n",
    "del data['field3']\n",
    "methods = data['method'].str.split()\n",
    "data['method'] = methods.apply(lambda x: x[0])\n",
    "data['url'] = methods.apply(lambda x: x[1])\n",
    "data['protocol'] = methods.apply(lambda x: x[2])\n",
    "# TODO: handle merge datetime and timezone to an unique datetime field"
   ]
  },
  {
   "cell_type": "code",
   "execution_count": null,
   "metadata": {
    "slideshow": {
     "slide_type": "subslide"
    }
   },
   "outputs": [],
   "source": [
    "data[data['code']>300]['url'].unique() # get all invalid request urls"
   ]
  },
  {
   "cell_type": "code",
   "execution_count": null,
   "metadata": {
    "slideshow": {
     "slide_type": "subslide"
    }
   },
   "outputs": [],
   "source": [
    "%matplotlib inline\n",
    "import seaborn as sns\n",
    "\n",
    "data['src'].value_counts()[:15].plot(kind='barh', figsize=(12, 5))"
   ]
  },
  {
   "cell_type": "code",
   "execution_count": null,
   "metadata": {
    "slideshow": {
     "slide_type": "subslide"
    }
   },
   "outputs": [],
   "source": [
    "# use chunksize to handle huge dataset\n",
    "import pandas as pd\n",
    "from pandas import Series\n",
    "\n",
    "data = pd.read_table('access_10000.log', sep=' ', chunksize=1000, names=[\n",
    "        'src', 'field2', 'field3', 'datetime', 'timezone', 'method', 'code', 'length', 'referer', 'agent'])\n",
    "invalid_visits = 0\n",
    "for chunk in data:\n",
    "    invalid_visits += len(chunk[chunk['code'] >= 300])\n",
    "print invalid_visits"
   ]
  },
  {
   "cell_type": "markdown",
   "metadata": {
    "slideshow": {
     "slide_type": "slide"
    }
   },
   "source": [
    "## Common Patterns\n",
    "\n",
    "![bible](//a1.att.hudong.com/34/62/19300001337301131296620943684.jpg)"
   ]
  },
  {
   "cell_type": "markdown",
   "metadata": {
    "slideshow": {
     "slide_type": "subslide"
    }
   },
   "source": [
    "### Singleton\n",
    "\n",
    "\n",
    "> http://blog.zhangyu.so/python/2016/02/16/design-patterns-of-python-borg/"
   ]
  },
  {
   "cell_type": "markdown",
   "metadata": {
    "slideshow": {
     "slide_type": "subslide"
    }
   },
   "source": [
    "### Decorator\n",
    "\n",
    "> http://blog.zhangyu.so/python/2016/02/17/design-patterns-of-python-decorator/"
   ]
  },
  {
   "cell_type": "markdown",
   "metadata": {
    "slideshow": {
     "slide_type": "subslide"
    }
   },
   "source": [
    "### Proxy\n",
    "\n",
    "> http://blog.zhangyu.so/python/2016/02/24/design-patterns-of-python-proxy/"
   ]
  },
  {
   "cell_type": "markdown",
   "metadata": {
    "slideshow": {
     "slide_type": "subslide"
    }
   },
   "source": [
    "### MapReduce\n",
    "\n",
    "> http://blog.zhangyu.so/python/2016/02/19/design-patterns-of-python-mapreduce/"
   ]
  }
 ],
 "metadata": {
  "celltoolbar": "Slideshow",
  "kernelspec": {
   "display_name": "Python 3",
   "language": "python",
   "name": "python3"
  },
  "language_info": {
   "codemirror_mode": {
    "name": "ipython",
    "version": 3
   },
   "file_extension": ".py",
   "mimetype": "text/x-python",
   "name": "python",
   "nbconvert_exporter": "python",
   "pygments_lexer": "ipython3",
   "version": "3.7.3"
  }
 },
 "nbformat": 4,
 "nbformat_minor": 1
}
