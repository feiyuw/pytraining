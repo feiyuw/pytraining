{
 "cells": [
  {
   "cell_type": "markdown",
   "metadata": {
    "slideshow": {
     "slide_type": "slide"
    }
   },
   "source": [
    "# Python Intermediate\n",
    "\n",
    "![python](https://upload.wikimedia.org/wikipedia/commons/c/c3/Python-logo-notext.svg)"
   ]
  },
  {
   "cell_type": "markdown",
   "metadata": {
    "slideshow": {
     "slide_type": "subslide"
    }
   },
   "source": [
    "![one step](/files/images/onestep.jpg)"
   ]
  },
  {
   "cell_type": "markdown",
   "metadata": {
    "slideshow": {
     "slide_type": "slide"
    }
   },
   "source": [
    "## Functional programming\n",
    "\n",
    "![lambda](/files/images/lambda.png)"
   ]
  },
  {
   "cell_type": "markdown",
   "metadata": {
    "slideshow": {
     "slide_type": "subslide"
    }
   },
   "source": [
    ">it’s almost certainly ture that functional programming is the next big thing\n",
    "\n",
    "--- Uncle Bob Martin"
   ]
  },
  {
   "cell_type": "code",
   "execution_count": null,
   "metadata": {
    "collapsed": false,
    "slideshow": {
     "slide_type": "subslide"
    }
   },
   "outputs": [],
   "source": [
    "# use function as parameter\n",
    "def get_visit_ips(file_path, callback):\n",
    "    with open(file_pth) as fp:\n",
    "        return [callback(line) for line in fp]"
   ]
  },
  {
   "cell_type": "code",
   "execution_count": null,
   "metadata": {
    "collapsed": true,
    "slideshow": {
     "slide_type": "subslide"
    }
   },
   "outputs": [],
   "source": [
    "# return function\n",
    "def cache(func):\n",
    "    cached = {}\n",
    "    def _func(attr, *args, **kwargs):\n",
    "        if attr not in cached:\n",
    "            cached[attr] = func(attr, *args, **kwargs)\n",
    "        return cached[attr]\n",
    "    \n",
    "    return _func\n",
    "        "
   ]
  },
  {
   "cell_type": "code",
   "execution_count": null,
   "metadata": {
    "collapsed": false,
    "slideshow": {
     "slide_type": "subslide"
    }
   },
   "outputs": [],
   "source": [
    "# lambda\n",
    "lambda : True"
   ]
  },
  {
   "cell_type": "code",
   "execution_count": null,
   "metadata": {
    "collapsed": true,
    "slideshow": {
     "slide_type": "fragment"
    }
   },
   "outputs": [],
   "source": [
    "lambda x: x ** 2"
   ]
  },
  {
   "cell_type": "code",
   "execution_count": null,
   "metadata": {
    "collapsed": true,
    "slideshow": {
     "slide_type": "fragment"
    }
   },
   "outputs": [],
   "source": [
    "lambda x, y: x + y"
   ]
  },
  {
   "cell_type": "code",
   "execution_count": null,
   "metadata": {
    "collapsed": false,
    "slideshow": {
     "slide_type": "subslide"
    }
   },
   "outputs": [],
   "source": [
    "# map\n",
    "map(lambda x: x ** 2, range(10))"
   ]
  },
  {
   "cell_type": "code",
   "execution_count": null,
   "metadata": {
    "collapsed": false,
    "slideshow": {
     "slide_type": "fragment"
    }
   },
   "outputs": [],
   "source": [
    "# reduce\n",
    "reduce(lambda x, y: x + y, range(10))"
   ]
  },
  {
   "cell_type": "code",
   "execution_count": null,
   "metadata": {
    "collapsed": false,
    "slideshow": {
     "slide_type": "fragment"
    }
   },
   "outputs": [],
   "source": [
    "# filter\n",
    "filter(lambda x: x % 2 == 0, range(10))"
   ]
  },
  {
   "cell_type": "markdown",
   "metadata": {
    "slideshow": {
     "slide_type": "subslide"
    }
   },
   "source": [
    "### Decorator"
   ]
  },
  {
   "cell_type": "markdown",
   "metadata": {
    "slideshow": {
     "slide_type": "fragment"
    }
   },
   "source": [
    "![Telecom Tree](/files/images/telecomtree.jpg)"
   ]
  },
  {
   "cell_type": "code",
   "execution_count": null,
   "metadata": {
    "collapsed": false,
    "slideshow": {
     "slide_type": "subslide"
    }
   },
   "outputs": [],
   "source": [
    "class MyDict(dict):\n",
    "    @property\n",
    "    def max(self):\n",
    "        return max(self.values())\n",
    "\n",
    "MyDict(a=1, b=2, c=3).max"
   ]
  },
  {
   "cell_type": "code",
   "execution_count": null,
   "metadata": {
    "collapsed": false,
    "slideshow": {
     "slide_type": "subslide"
    }
   },
   "outputs": [],
   "source": [
    "# cache wrapper\n",
    "def cache(func):\n",
    "    cached = {}\n",
    "    def _f(*args):\n",
    "        if args not in cached:\n",
    "            result = func(*args)\n",
    "            cached[args] = result\n",
    "        else:\n",
    "            print 'cache hint!'\n",
    "        return cached[args]\n",
    "    return _f\n",
    "\n",
    "@cache\n",
    "def sum_(*args):\n",
    "    return sum(args)\n",
    "\n",
    "print sum_(1,2,3)\n",
    "print sum_(1,2,3)"
   ]
  },
  {
   "cell_type": "markdown",
   "metadata": {
    "slideshow": {
     "slide_type": "subslide"
    }
   },
   "source": [
    "### One more step"
   ]
  },
  {
   "cell_type": "code",
   "execution_count": null,
   "metadata": {
    "collapsed": false,
    "slideshow": {
     "slide_type": "subslide"
    }
   },
   "outputs": [],
   "source": [
    "# cache wrapper for function\n",
    "import time\n",
    "\n",
    "def cache(timeout):\n",
    "    def _wrapped(func):\n",
    "        cached_start = {}\n",
    "        cached = {}\n",
    "        def _f(*args):\n",
    "            if args not in cached or ((time.time() - cached_start[args]) > timeout):\n",
    "                result = func(*args)\n",
    "                cached[args] = result\n",
    "                cached_start[args] = time.time()\n",
    "            else:\n",
    "                print 'cache hint!'\n",
    "            return cached[args]\n",
    "        return _f\n",
    "    return _wrapped\n",
    "\n",
    "@cache(2)\n",
    "def sum_(*nums):\n",
    "    return sum(nums)\n",
    "\n",
    "print sum_(1,2,3)\n",
    "print sum_(1,2,3)\n",
    "from time import sleep\n",
    "sleep(2)\n",
    "print sum_(1,2,3)"
   ]
  },
  {
   "cell_type": "markdown",
   "metadata": {
    "slideshow": {
     "slide_type": "subslide"
    }
   },
   "source": [
    "### functools"
   ]
  },
  {
   "cell_type": "markdown",
   "metadata": {
    "slideshow": {
     "slide_type": "fragment"
    }
   },
   "source": [
    ">Tools for working with functions and callable objects"
   ]
  },
  {
   "cell_type": "code",
   "execution_count": null,
   "metadata": {
    "collapsed": false,
    "slideshow": {
     "slide_type": "subslide"
    }
   },
   "outputs": [],
   "source": [
    "# functools.partial\n",
    "import functools\n",
    "\n",
    "def echo(name, city, country):\n",
    "    print '%s live in %s, %s' % (name, city, country)\n",
    "    \n",
    "f = functools.partial(echo, city='Hangzhou', country='China')\n",
    "\n",
    "f('Tom and Jerry')"
   ]
  },
  {
   "cell_type": "code",
   "execution_count": null,
   "metadata": {
    "collapsed": false,
    "slideshow": {
     "slide_type": "subslide"
    }
   },
   "outputs": [],
   "source": [
    "# functools.wraps\n",
    "import functools\n",
    "\n",
    "def before_deco(f):\n",
    "    @functools.wraps(f)\n",
    "    def wrapper(*args, **kwargs):\n",
    "        print 'before'\n",
    "        return f(*args, **kwargs)\n",
    "    \n",
    "    return wrapper\n",
    "\n",
    "@before_deco\n",
    "def test(name):\n",
    "    print name\n",
    "    \n",
    "print test.func_name"
   ]
  },
  {
   "cell_type": "markdown",
   "metadata": {
    "slideshow": {
     "slide_type": "subslide"
    }
   },
   "source": [
    "### Practice"
   ]
  },
  {
   "cell_type": "code",
   "execution_count": null,
   "metadata": {
    "collapsed": true,
    "slideshow": {
     "slide_type": "fragment"
    }
   },
   "outputs": [],
   "source": [
    "# implement a to_int function, that convert hex string data to integer\n",
    "# eg:\n",
    "#     to_int('\\xef')  ==> 239\n",
    "#     to_int('\\xef\\x01')  ==> 61185\n",
    "# NOTE: builtin function ord can return the integer ordinal of a one-character string\n"
   ]
  },
  {
   "cell_type": "markdown",
   "metadata": {
    "slideshow": {
     "slide_type": "slide"
    }
   },
   "source": [
    "## Unit Testing"
   ]
  },
  {
   "cell_type": "code",
   "execution_count": null,
   "metadata": {
    "collapsed": false,
    "slideshow": {
     "slide_type": "subslide"
    }
   },
   "outputs": [],
   "source": [
    "# Unit Testing\n",
    "import unittest\n",
    "\n",
    "def to_int(data):\n",
    "    return 1\n",
    "\n",
    "class TestToInt(unittest.TestCase):\n",
    "    def test_to_int_with_one_char_string(self):\n",
    "        self.assertEqual(to_int('\\x01'), 1)\n",
    "    \n",
    "    def test_to_int_with_two_chars_string(self):\n",
    "        self.assertEqual(to_int('\\xef\\x01'), 61185)\n",
    "\n",
    "suite = unittest.TestLoader().loadTestsFromTestCase(TestToInt)\n",
    "unittest.TextTestRunner().run(suite)"
   ]
  },
  {
   "cell_type": "code",
   "execution_count": null,
   "metadata": {
    "collapsed": false,
    "slideshow": {
     "slide_type": "subslide"
    }
   },
   "outputs": [],
   "source": [
    "# mock\n",
    "import time\n",
    "\n",
    "def delay_print(msg, delay):\n",
    "    time.sleep(delay)\n",
    "    print msg\n",
    "    \n",
    "import unittest\n",
    "\n",
    "time.sleep = lambda x: True\n",
    "\n",
    "class TestDelayPrint(unittest.TestCase):\n",
    "    def test_delay_print_empty_string(self):\n",
    "        delay_print('', 5)\n",
    "            \n",
    "suite = unittest.TestLoader().loadTestsFromTestCase(TestDelayPrint)\n",
    "unittest.TextTestRunner().run(suite)"
   ]
  },
  {
   "cell_type": "markdown",
   "metadata": {
    "slideshow": {
     "slide_type": "subslide"
    }
   },
   "source": [
    "### Write UT friendly code"
   ]
  },
  {
   "cell_type": "markdown",
   "metadata": {
    "slideshow": {
     "slide_type": "subslide"
    }
   },
   "source": [
    "```python\n",
    "from .rpc import Server\n",
    "\n",
    "class Master(object):\n",
    "    def __init__(self, port):\n",
    "        self._server = Server(port)\n",
    "    \n",
    "    # ...\n",
    "        \n",
    "master = Master(12234)\n",
    "```"
   ]
  },
  {
   "cell_type": "markdown",
   "metadata": {
    "slideshow": {
     "slide_type": "subslide"
    }
   },
   "source": [
    "```python\n",
    "from .rpc import Server\n",
    "\n",
    "class Master(object):\n",
    "    def __init__(self, server):\n",
    "        self._server = server\n",
    "    \n",
    "    # ...\n",
    "    \n",
    "master = Master(Server(12234))\n",
    "```"
   ]
  },
  {
   "cell_type": "markdown",
   "metadata": {
    "slideshow": {
     "slide_type": "subslide"
    }
   },
   "source": [
    "### Practice\n",
    "\n",
    "> write UT for to_int function"
   ]
  },
  {
   "cell_type": "markdown",
   "metadata": {
    "slideshow": {
     "slide_type": "slide"
    }
   },
   "source": [
    "## Introspection\n",
    "\n",
    "![introspection](/files/images/introspection.jpg)"
   ]
  },
  {
   "cell_type": "code",
   "execution_count": null,
   "metadata": {
    "collapsed": false,
    "slideshow": {
     "slide_type": "subslide"
    }
   },
   "outputs": [],
   "source": [
    "# dir\n",
    "import os\n",
    "\n",
    "print dir(os)"
   ]
  },
  {
   "cell_type": "code",
   "execution_count": null,
   "metadata": {
    "collapsed": false,
    "slideshow": {
     "slide_type": "subslide"
    }
   },
   "outputs": [],
   "source": [
    "# type\n",
    "s = 'hello world'\n",
    "\n",
    "print type(s)"
   ]
  },
  {
   "cell_type": "markdown",
   "metadata": {
    "slideshow": {
     "slide_type": "subslide"
    }
   },
   "source": [
    "> Everything is an object in Python."
   ]
  },
  {
   "cell_type": "code",
   "execution_count": null,
   "metadata": {
    "collapsed": false,
    "slideshow": {
     "slide_type": "subslide"
    }
   },
   "outputs": [],
   "source": [
    "a = 5\n",
    "print type(a)\n",
    "print type(type(a))"
   ]
  },
  {
   "cell_type": "code",
   "execution_count": null,
   "metadata": {
    "collapsed": false,
    "slideshow": {
     "slide_type": "subslide"
    }
   },
   "outputs": [],
   "source": [
    "# hasattr\n",
    "class DynamicObject(object):\n",
    "    def __getattr__(self, attr):\n",
    "        if attr in ('a', 'b', 'c'):\n",
    "            return attr.upper()\n",
    "        raise AttributeError\n",
    "\n",
    "obj = DynamicObject()\n",
    "\n",
    "print hasattr(obj, 'a')\n",
    "print hasattr(obj, 'd')\n"
   ]
  },
  {
   "cell_type": "markdown",
   "metadata": {
    "slideshow": {
     "slide_type": "subslide"
    }
   },
   "source": [
    "### Practice"
   ]
  },
  {
   "cell_type": "code",
   "execution_count": null,
   "metadata": {
    "collapsed": false,
    "slideshow": {
     "slide_type": "fragment"
    }
   },
   "outputs": [],
   "source": [
    "# 1. implement a bash wrapper, so that I can call bash command like a class attribute\n",
    "#\n",
    "#     bash = BashWrapper()\n",
    "#     bash.ping('10.69.69.124')\n",
    "#     bash.ls('-l', '~')\n",
    "#\n",
    "# Write your code here"
   ]
  },
  {
   "cell_type": "code",
   "execution_count": null,
   "metadata": {
    "collapsed": true,
    "slideshow": {
     "slide_type": "fragment"
    }
   },
   "outputs": [],
   "source": [
    "# one more step...\n",
    "# 2. what about a bash wrapper module, so that I can call bash command like a module import\n",
    "#     from bashwrapper import ping\n",
    "#     ping('10.69.69.124')\n",
    "#     from bashwrapper import ls\n",
    "#     ls('-l', '~')"
   ]
  },
  {
   "cell_type": "markdown",
   "metadata": {
    "slideshow": {
     "slide_type": "slide"
    }
   },
   "source": [
    "## Parallel Handling\n",
    "\n",
    "![run](/files/images/run.png)"
   ]
  },
  {
   "cell_type": "code",
   "execution_count": null,
   "metadata": {
    "collapsed": false,
    "slideshow": {
     "slide_type": "subslide"
    }
   },
   "outputs": [],
   "source": [
    "# fetch content size from a series of web sites\n",
    "import urllib\n",
    "\n",
    "urls = ['http://hztdltev01.china.nsn-net.net',\n",
    "        'http://10.56.117.81/coci/',\n",
    "        'http://coop.china.nsn-net.net']\n",
    "\n",
    "for url in urls:\n",
    "    print len(urllib.urlopen(url, proxies={}).read())"
   ]
  },
  {
   "cell_type": "code",
   "execution_count": null,
   "metadata": {
    "collapsed": false,
    "slideshow": {
     "slide_type": "subslide"
    }
   },
   "outputs": [],
   "source": [
    "# introduce thread\n",
    "from threading import Thread\n",
    "import urllib\n",
    "\n",
    "urls = ['http://hztdltev01.china.nsn-net.net',\n",
    "        'http://10.56.117.81/coci/',\n",
    "        'http://coop.china.nsn-net.net']\n",
    "\n",
    "class UrlFetchThread(Thread):\n",
    "    def __init__(self, url, *args):\n",
    "        super(UrlFetchThread, self).__init__(*args)\n",
    "        self._url = url\n",
    "        \n",
    "    def run(self):\n",
    "        print len(urllib.urlopen(self._url).read())\n",
    "        \n",
    "threads = map(UrlFetchThread, urls)\n",
    "for t in threads:\n",
    "    t.start()\n",
    "    t.join()"
   ]
  },
  {
   "cell_type": "code",
   "execution_count": null,
   "metadata": {
    "collapsed": false,
    "slideshow": {
     "slide_type": "subslide"
    }
   },
   "outputs": [],
   "source": [
    "# introduce multi process\n",
    "from multiprocessing import Process\n",
    "import urllib\n",
    "\n",
    "urls = ['http://hztdltev01.china.nsn-net.net',\n",
    "        'http://10.56.117.81/coci/',\n",
    "        'http://coop.china.nsn-net.net']\n",
    "\n",
    "class UrlFetchProcess(Process):\n",
    "    def __init__(self, url, *args):\n",
    "        super(UrlFetchProcess, self).__init__(*args)\n",
    "        self._url = url\n",
    "        \n",
    "    def run(self):\n",
    "        print len(urllib.urlopen(self._url).read())\n",
    "        \n",
    "processes = map(UrlFetchProcess, urls)\n",
    "for p in processes:\n",
    "    p.start()\n",
    "    p.join()"
   ]
  },
  {
   "cell_type": "code",
   "execution_count": null,
   "metadata": {
    "collapsed": false,
    "slideshow": {
     "slide_type": "subslide"
    }
   },
   "outputs": [],
   "source": [
    "# use Pool\n",
    "from multiprocessing import Pool\n",
    "from multiprocessing.dummy import Pool as ThreadPool\n",
    "\n",
    "urls = ['http://hztdltev01.china.nsn-net.net',\n",
    "        'http://10.56.117.81/coci/',\n",
    "        'http://coop.china.nsn-net.net']\n",
    "\n",
    "def fetch_content(url):\n",
    "    print len(urllib.urlopen(url).read())\n",
    "    \n",
    "pool = Pool()\n",
    "pool.map(fetch_content, urls)\n",
    "pool.close()\n",
    "pool.join()\n",
    "\n",
    "# -----------------------------------------\n",
    "thread_pool = ThreadPool()\n",
    "thread_pool.map(fetch_content, urls)\n",
    "thread_pool.close()\n",
    "thread_pool.join()"
   ]
  },
  {
   "cell_type": "code",
   "execution_count": null,
   "metadata": {
    "collapsed": false,
    "slideshow": {
     "slide_type": "subslide"
    }
   },
   "outputs": [],
   "source": [
    "# introduce gevent\n",
    "import gevent\n",
    "from gevent import monkey\n",
    "monkey.patch_all()\n",
    "\n",
    "urls = ['http://hztdltev01.china.nsn-net.net',\n",
    "        'http://10.56.117.81/coci/',\n",
    "        'http://coop.china.nsn-net.net']\n",
    "\n",
    "def fetch_content(url):\n",
    "    print len(urllib.urlopen(url).read())\n",
    "    \n",
    "[gevent.spawn(fetch_content, url) for url in urls]\n",
    "\n",
    "gevent.wait()"
   ]
  },
  {
   "cell_type": "code",
   "execution_count": null,
   "metadata": {
    "collapsed": false,
    "slideshow": {
     "slide_type": "subslide"
    }
   },
   "outputs": [],
   "source": [
    "# Queue\n",
    "from multiprocessing import Process, Queue\n",
    "\n",
    "def f(q, num):\n",
    "    q.put([num, None, 'hello'])\n",
    "\n",
    "if __name__ == '__main__':\n",
    "    q = Queue()\n",
    "    p1 = Process(target=f, args=(q,12))\n",
    "    p2 = Process(target=f, args=(q,24))\n",
    "    p1.start()\n",
    "    p2.start()\n",
    "    print q.get()\n",
    "    print q.get()\n",
    "    p1.join()\n",
    "    p2.join()"
   ]
  },
  {
   "cell_type": "markdown",
   "metadata": {
    "slideshow": {
     "slide_type": "subslide"
    }
   },
   "source": [
    "### Practice"
   ]
  },
  {
   "cell_type": "code",
   "execution_count": null,
   "metadata": {
    "collapsed": false,
    "slideshow": {
     "slide_type": "fragment"
    }
   },
   "outputs": [],
   "source": [
    "# (after class) implement a FAST ftp downloder \n",
    "# eg: download ftp://hztdltev01.china.nsn-net.net/esa_data/\n"
   ]
  },
  {
   "cell_type": "markdown",
   "metadata": {
    "slideshow": {
     "slide_type": "slide"
    }
   },
   "source": [
    "## Web Development\n",
    "\n",
    "![Python Web](/files/images/pyweb.png)"
   ]
  },
  {
   "cell_type": "code",
   "execution_count": null,
   "metadata": {
    "collapsed": false,
    "slideshow": {
     "slide_type": "subslide"
    }
   },
   "outputs": [],
   "source": [
    "# BaseHTTPServer and SimpleHTTPServer\n",
    "# python -m SimpleHTTPServer 8080\n",
    "from BaseHTTPServer import HTTPServer\n",
    "from SimpleHTTPServer import SimpleHTTPRequestHandler\n",
    "\n",
    "server = HTTPServer(('0.0.0.0', 8282), SimpleHTTPRequestHandler)\n",
    "\n",
    "server.serve_forever()"
   ]
  },
  {
   "cell_type": "code",
   "execution_count": null,
   "metadata": {
    "collapsed": false,
    "slideshow": {
     "slide_type": "subslide"
    }
   },
   "outputs": [],
   "source": [
    "# with micro framework bottle.py\n",
    "from bottle import route, run, template\n",
    "\n",
    "@route('/hello/<name>')\n",
    "def index(name):\n",
    "    return template('<b>Hello {{name}}</b>!', name=name)\n",
    "\n",
    "run(host='localhost', port=8181)"
   ]
  },
  {
   "cell_type": "markdown",
   "metadata": {
    "slideshow": {
     "slide_type": "subslide"
    }
   },
   "source": [
    "### Practice"
   ]
  },
  {
   "cell_type": "code",
   "execution_count": null,
   "metadata": {
    "collapsed": false,
    "slideshow": {
     "slide_type": "subslide"
    }
   },
   "outputs": [],
   "source": [
    "# implement a simple REST service for user operation using Python, \n",
    "#   you can store the user info into memory, DB or files.\n",
    "#   the return data should be in JSON format, \n",
    "#     GET/POST/DELETE method should be supported\n",
    "# Example:\n",
    "#     GET  /api/users  ==> \n",
    "#         ['tom', 'jerry', 'lily']\n",
    "#     POST  /api/users  ['james', 'terry']  ==>  \n",
    "#         ['tom', 'jerry', 'lily', 'james', 'terry']\n",
    "#     DELETE  /api/users/james  ==>  \n",
    "#         ['tom', 'jerry', 'lily', 'terry']\n",
    "from bottle import get, post, delete, response, run\n",
    "import json\n",
    "\n",
    "@get('/api/users')\n",
    "def users():\n",
    "    response.set_header('Content-Type', 'application/json')\n",
    "    return json.dumps(['tom', 'jerry', 'lily'])\n",
    "\n",
    "run(host='localhost', port=11111)"
   ]
  },
  {
   "cell_type": "markdown",
   "metadata": {
    "slideshow": {
     "slide_type": "slide"
    }
   },
   "source": [
    "## A byte of pandas"
   ]
  },
  {
   "cell_type": "markdown",
   "metadata": {
    "slideshow": {
     "slide_type": "fragment"
    }
   },
   "source": [
    "![pandas](/files/images/panda.jpg)"
   ]
  },
  {
   "cell_type": "code",
   "execution_count": null,
   "metadata": {
    "collapsed": true,
    "slideshow": {
     "slide_type": "subslide"
    }
   },
   "outputs": [],
   "source": [
    "%matplotlib inline\n",
    "import pandas as pd\n",
    "import numpy as np\n",
    "import seaborn as sns"
   ]
  },
  {
   "cell_type": "code",
   "execution_count": null,
   "metadata": {
    "collapsed": false,
    "slideshow": {
     "slide_type": "subslide"
    }
   },
   "outputs": [],
   "source": [
    "# a simplest example\n",
    "from pandas import DataFrame\n",
    "data = DataFrame([1,2,3,4,5,6,7,8,9,10])\n",
    "data.plot()"
   ]
  },
  {
   "cell_type": "code",
   "execution_count": null,
   "metadata": {
    "collapsed": false,
    "slideshow": {
     "slide_type": "subslide"
    }
   },
   "outputs": [],
   "source": [
    "# read data from nginx access log\n",
    "from pandas import DataFrame\n",
    "import re\n",
    "\n",
    "_ptn = re.compile(r'(\\S+) \\S+ \\S+ \\[(.+)\\] \"(\\S+) (\\S+) (\\S+)\" (\\d+) (\\d+) \".*\" \"(.*)\"')\n",
    "def _parse_line(line):\n",
    "    return _ptn.search(line).groups()\n",
    "\n",
    "with open('access_10000.log') as f:\n",
    "    data = DataFrame(map(_parse_line, f), columns=[\n",
    "            'src', 'date', 'method', 'dst', 'protocol', 'code', 'length', 'agent'])"
   ]
  },
  {
   "cell_type": "code",
   "execution_count": null,
   "metadata": {
    "collapsed": false,
    "slideshow": {
     "slide_type": "subslide"
    }
   },
   "outputs": [],
   "source": [
    "# using data\n",
    "data # all columns and rows\n",
    "data[:10] # first 10 rows\n",
    "data['src'] # only src column\n",
    "data[['src', 'agent']] # src and agent columns\n",
    "data[data['code'].astype(int) >= 400] # code larger than 400 records"
   ]
  },
  {
   "cell_type": "code",
   "execution_count": null,
   "metadata": {
    "collapsed": false,
    "scrolled": true,
    "slideshow": {
     "slide_type": "subslide"
    }
   },
   "outputs": [],
   "source": [
    "# groupby\n",
    "data.groupby('src').size().sort_values(ascending=False)[:10] # top 10 visitors"
   ]
  },
  {
   "cell_type": "code",
   "execution_count": null,
   "metadata": {
    "collapsed": true,
    "slideshow": {
     "slide_type": "fragment"
    }
   },
   "outputs": [],
   "source": [
    "# or\n",
    "data['src'].value_counts()[:10] # top 10 visitors"
   ]
  },
  {
   "cell_type": "code",
   "execution_count": null,
   "metadata": {
    "collapsed": false,
    "slideshow": {
     "slide_type": "subslide"
    }
   },
   "outputs": [],
   "source": [
    "# use time series\n",
    "# 1. convert string date to datetime\n",
    "from dateutil.parser import parse\n",
    "\n",
    "def convert_date(raw_date):\n",
    "    return parse(raw_date.replace(':', ' ', 1))\n",
    "\n",
    "data['date'] = data.date.apply(convert_date)"
   ]
  },
  {
   "cell_type": "code",
   "execution_count": null,
   "metadata": {
    "collapsed": false,
    "slideshow": {
     "slide_type": "subslide"
    }
   },
   "outputs": [],
   "source": [
    "# 2. datetime series\n",
    "from pandas import Series\n",
    "from datetime import datetime\n",
    "\n",
    "dates = [\n",
    "    datetime(2011, 1, 2), \n",
    "    datetime(2011, 1, 2), \n",
    "    datetime(2011,1,4), \n",
    "    datetime(2011,1,4), \n",
    "    datetime(2011,1,5), \n",
    "    datetime(2011,1,6)]\n",
    "ts = Series(np.random.randn(6), index=dates)\n",
    "print ts\n",
    "ts['2011/1/2']"
   ]
  },
  {
   "cell_type": "code",
   "execution_count": null,
   "metadata": {
    "collapsed": false,
    "slideshow": {
     "slide_type": "subslide"
    }
   },
   "outputs": [],
   "source": [
    "# groupby with timeseries, and plot\n",
    "df = data.groupby('date').size()\n",
    "df.cumsum().plot(figsize=(12, 6))\n",
    "# df.plot(figsize=(12,6), style='o')"
   ]
  },
  {
   "cell_type": "markdown",
   "metadata": {
    "slideshow": {
     "slide_type": "subslide"
    }
   },
   "source": [
    "### Practice"
   ]
  },
  {
   "cell_type": "code",
   "execution_count": null,
   "metadata": {
    "collapsed": true,
    "slideshow": {
     "slide_type": "fragment"
    }
   },
   "outputs": [],
   "source": [
    "# based on access_10000.log,\n",
    "# 1. list the top 5 web browsers\n",
    "# 2. plot it"
   ]
  },
  {
   "cell_type": "markdown",
   "metadata": {
    "slideshow": {
     "slide_type": "slide"
    }
   },
   "source": [
    "## Reference\n",
    "\n",
    "* http://www.diveintopython.net/power_of_introspection/\n",
    "* https://docs.python.org/2/library/inspect.html\n",
    "* https://docs.python.org/2/howto/functional.html\n",
    "* https://en.wikipedia.org/wiki/Functional_programming\n",
    "* https://docs.python.org/2/library/functions.html#iter\n",
    "* http://butunclebob.com/files/downloads/Prime%20Factors%20Kata.ppt\n",
    "* https://blog.8thlight.com/uncle-bob/2013/05/27/TheTransformationPriorityPremise.html\n",
    "* https://wiki.python.org/moin/Generators\n",
    "* https://docs.python.org/2/library/threading.html\n",
    "* https://docs.python.org/2/library/multiprocessing.html\n",
    "* http://www.gevent.org/intro.html\n",
    "* http://bottlepy.org/docs/dev/index.html\n",
    "* http://api.mongodb.org/python/current/tutorial.html\n",
    "* https://docs.python.org/2/library/simplehttpserver.html"
   ]
  },
  {
   "cell_type": "markdown",
   "metadata": {
    "slideshow": {
     "slide_type": "slide"
    }
   },
   "source": [
    "## Q & A"
   ]
  }
 ],
 "metadata": {
  "celltoolbar": "Slideshow",
  "kernelspec": {
   "display_name": "Python 2",
   "language": "python",
   "name": "python2"
  },
  "language_info": {
   "codemirror_mode": {
    "name": "ipython",
    "version": 2
   },
   "file_extension": ".py",
   "mimetype": "text/x-python",
   "name": "python",
   "nbconvert_exporter": "python",
   "pygments_lexer": "ipython2",
   "version": "2.7.12"
  }
 },
 "nbformat": 4,
 "nbformat_minor": 0
}
