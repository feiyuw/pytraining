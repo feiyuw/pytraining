{
 "cells": [
  {
   "cell_type": "markdown",
   "metadata": {},
   "source": [
    "> 1. Introspection\n",
    "1. Functional programming\n",
    "    * map-reduced\n",
    "    * read_int\n",
    "1. Unit Testing and TDD\n",
    "    * use cyber-dojo http://cyber-dojo.org/\n",
    "    * use TDD to implement read_int\n",
    "1. Iterator and Generator\n",
    "    * mock command line system\n",
    "1. Run in parallel\n",
    "    * batch downloading tool\n",
    "    * Multi threading\n",
    "    * Multi processing\n",
    "    * Gevent\n",
    "        * BBS like chating service\n",
    "1. Design patterns\n",
    "    * Mixin\n",
    "    * Singleton\n",
    "    * Decorator\n",
    "1. Regrex Expression (?)\n",
    "1. Meta Class (?)\n"
   ]
  },
  {
   "cell_type": "markdown",
   "metadata": {
    "slideshow": {
     "slide_type": "slide"
    }
   },
   "source": [
    "# Python Intermediate\n",
    "\n",
    "![python](https://upload.wikimedia.org/wikipedia/commons/c/c3/Python-logo-notext.svg)"
   ]
  },
  {
   "cell_type": "markdown",
   "metadata": {
    "slideshow": {
     "slide_type": "fragment"
    }
   },
   "source": [
    "\n",
    "_talk is cheap, show me the code_\n",
    "\n",
    "--- Linus Torvalds"
   ]
  }
 ],
 "metadata": {
  "celltoolbar": "Slideshow",
  "kernelspec": {
   "display_name": "Python 2",
   "language": "python",
   "name": "python2"
  },
  "language_info": {
   "codemirror_mode": {
    "name": "ipython",
    "version": 2
   },
   "file_extension": ".py",
   "mimetype": "text/x-python",
   "name": "python",
   "nbconvert_exporter": "python",
   "pygments_lexer": "ipython2",
   "version": "2.7.6"
  }
 },
 "nbformat": 4,
 "nbformat_minor": 0
}
