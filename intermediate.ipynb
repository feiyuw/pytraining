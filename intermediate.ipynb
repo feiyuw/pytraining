{
 "cells": [
  {
   "cell_type": "markdown",
   "metadata": {
    "slideshow": {
     "slide_type": "slide"
    }
   },
   "source": [
    "# Python Intermediate\n",
    "\n",
    "![python](https://upload.wikimedia.org/wikipedia/commons/c/c3/Python-logo-notext.svg)"
   ]
  },
  {
   "cell_type": "markdown",
   "metadata": {
    "slideshow": {
     "slide_type": "fragment"
    }
   },
   "source": [
    "\n",
    "_Don't you hate code that's not properly indented? Making it [indenting] part of the syntax guarantees that all code is properly indented._\n",
    "\n",
    "--- Guido van Rossum"
   ]
  },
  {
   "cell_type": "markdown",
   "metadata": {
    "slideshow": {
     "slide_type": "slide"
    }
   },
   "source": [
    "## Functional programming\n",
    "\n",
    "![lambda](/files/images/lambda.png)"
   ]
  },
  {
   "cell_type": "markdown",
   "metadata": {
    "slideshow": {
     "slide_type": "subslide"
    }
   },
   "source": [
    "* A programming paradigm that treats computation as the evaluation of mathematical functions and avoids changing-state and mutable data. \n",
    "* It is a declarative programming paradigm, which means programming is done with expressions. \n",
    "* In functional code, the output value of a function depends only on the arguments that are input to the function, so calling a function f twice with the same value for an argument x will produce the same result f(x) each time. "
   ]
  },
  {
   "cell_type": "code",
   "execution_count": null,
   "metadata": {
    "collapsed": false,
    "slideshow": {
     "slide_type": "subslide"
    }
   },
   "outputs": [],
   "source": [
    "# use function as parameter\n",
    "def get_visit_ips(file_path, callback):\n",
    "    with open(file_pth) as fp:\n",
    "        return [callback(line) for line in fp]"
   ]
  },
  {
   "cell_type": "code",
   "execution_count": null,
   "metadata": {
    "collapsed": true,
    "slideshow": {
     "slide_type": "subslide"
    }
   },
   "outputs": [],
   "source": [
    "# return function\n",
    "def cache(func):\n",
    "    cached = {}\n",
    "    def _func(attr, *args, **kwargs):\n",
    "        if attr not in cached:\n",
    "            cached[attr] = func(attr, *args, **kwargs)\n",
    "        return cached[attr]\n",
    "    \n",
    "    return _func\n",
    "        "
   ]
  },
  {
   "cell_type": "code",
   "execution_count": null,
   "metadata": {
    "collapsed": true,
    "slideshow": {
     "slide_type": "subslide"
    }
   },
   "outputs": [],
   "source": [
    "# functools.partial\n",
    "import functools\n",
    "\n",
    "def echo(name, city, country):\n",
    "    print '%s live in %s, %s' % (name, city, country)\n",
    "    \n",
    "f = functools.partial(echo, city='Hangzhou', country='China')\n",
    "\n",
    "f('Tom and Jerry')"
   ]
  },
  {
   "cell_type": "code",
   "execution_count": null,
   "metadata": {
    "collapsed": true,
    "slideshow": {
     "slide_type": "subslide"
    }
   },
   "outputs": [],
   "source": [
    "# lambda\n",
    "lambda : True\n",
    "lambda x: x ** 2\n",
    "lambda x, y: x + y"
   ]
  },
  {
   "cell_type": "code",
   "execution_count": null,
   "metadata": {
    "collapsed": true,
    "slideshow": {
     "slide_type": "subslide"
    }
   },
   "outputs": [],
   "source": [
    "# map|reduce\n",
    "map(lambda x: x ** 2, range(10))\n",
    "\n",
    "reduce(lambda x, y: x + y, range(10))"
   ]
  },
  {
   "cell_type": "markdown",
   "metadata": {
    "slideshow": {
     "slide_type": "subslide"
    }
   },
   "source": [
    "### Practice"
   ]
  },
  {
   "cell_type": "code",
   "execution_count": null,
   "metadata": {
    "collapsed": true,
    "slideshow": {
     "slide_type": "fragment"
    }
   },
   "outputs": [],
   "source": [
    "# implement a to_int function, that convert hex string data to integer\n",
    "# eg:\n",
    "#     to_int('\\xef')  ==> 239\n",
    "#     to_int('\\xef\\x01')  ==> 61185\n",
    "# NOTE: builtin function ord can return the integer ordinal of a one-character string\n"
   ]
  },
  {
   "cell_type": "markdown",
   "metadata": {
    "slideshow": {
     "slide_type": "slide"
    }
   },
   "source": [
    "## Introspection\n",
    "\n",
    "![introspection](/files/images/introspection.jpg)"
   ]
  },
  {
   "cell_type": "code",
   "execution_count": null,
   "metadata": {
    "collapsed": true,
    "slideshow": {
     "slide_type": "subslide"
    }
   },
   "outputs": [],
   "source": [
    "# dir\n",
    "import os\n",
    "\n",
    "print dir(os)"
   ]
  },
  {
   "cell_type": "code",
   "execution_count": null,
   "metadata": {
    "collapsed": true,
    "slideshow": {
     "slide_type": "subslide"
    }
   },
   "outputs": [],
   "source": [
    "# type\n",
    "s = 'hello world'\n",
    "\n",
    "print type(s)"
   ]
  },
  {
   "cell_type": "code",
   "execution_count": null,
   "metadata": {
    "collapsed": true,
    "slideshow": {
     "slide_type": "subslide"
    }
   },
   "outputs": [],
   "source": [
    "# isinstance & issubclass\n",
    "class A(object):\n",
    "    pass\n",
    "\n",
    "class B(A):\n",
    "    pass\n",
    "\n",
    "a = A()\n",
    "b = B()\n",
    "\n",
    "print isinstance(a, A)\n",
    "print isinstance(a, B)\n",
    "print isinstance(b, B)\n",
    "print isinstance(b, A)\n",
    "\n",
    "print issubclass(B, A)\n",
    "print issubclass(A, B)"
   ]
  },
  {
   "cell_type": "code",
   "execution_count": null,
   "metadata": {
    "collapsed": true,
    "slideshow": {
     "slide_type": "subslide"
    }
   },
   "outputs": [],
   "source": [
    "# hasattr\n",
    "class DynamicObject(object):\n",
    "    def __getattr__(self, attr):\n",
    "        if attr in ('a', 'b', 'c'):\n",
    "            return attr.upper()\n",
    "        raise AttributeError\n",
    "\n",
    "obj = DynamicObject()\n",
    "\n",
    "print hasattr(obj, 'a')\n",
    "print hasattr(obj, 'd')\n"
   ]
  },
  {
   "cell_type": "code",
   "execution_count": null,
   "metadata": {
    "collapsed": true,
    "slideshow": {
     "slide_type": "subslide"
    }
   },
   "outputs": [],
   "source": [
    "# inspect module\n",
    "import inspect\n",
    "import robot\n",
    "\n",
    "print inspect.getdoc(robot)\n",
    "print inspect.getsource(robot)\n",
    "print inspect.getcomments(robot)"
   ]
  },
  {
   "cell_type": "markdown",
   "metadata": {
    "slideshow": {
     "slide_type": "subslide"
    }
   },
   "source": [
    "### Practice"
   ]
  },
  {
   "cell_type": "code",
   "execution_count": null,
   "metadata": {
    "collapsed": false,
    "slideshow": {
     "slide_type": "fragment"
    }
   },
   "outputs": [],
   "source": [
    "# 1. implement a bash wrapper, so that I can call bash command like a class attribute\n",
    "#\n",
    "#     bash = BashWrapper()\n",
    "#     bash.ping('10.69.69.124')\n",
    "#     bash.ls('-l', '~')\n",
    "#\n",
    "# Write your code here\n",
    "\n",
    "# 2. what about a bash wrapper module, so that I can call bash command like a module import\n",
    "#     from bashwrapper import ping\n",
    "#     ping('10.69.69.124')\n",
    "#     from bashwrapper import ls\n",
    "#     ls('-l', '~')"
   ]
  },
  {
   "cell_type": "markdown",
   "metadata": {
    "slideshow": {
     "slide_type": "slide"
    }
   },
   "source": [
    "## Unit Testing and TDD"
   ]
  },
  {
   "cell_type": "code",
   "execution_count": null,
   "metadata": {
    "collapsed": true,
    "slideshow": {
     "slide_type": "subslide"
    }
   },
   "outputs": [],
   "source": [
    "# Unit Testing\n",
    "import unittest\n",
    "\n",
    "def to_int(data):\n",
    "    return 1\n",
    "\n",
    "class TestToInt(unittest.TestCase):\n",
    "    def test_to_int_with_one_char_string(self):\n",
    "        self.assertEqual(to_int('\\x01'), 1)\n",
    "    \n",
    "    def test_to_int_with_two_chars_string(self):\n",
    "        self.assertEqual(to_int('\\xef\\x01'), 61185)\n",
    "\n",
    "suite = unittest.TestLoader().loadTestsFromTestCase(TestToInt)\n",
    "unittest.TextTestRunner().run(suite)"
   ]
  },
  {
   "cell_type": "code",
   "execution_count": null,
   "metadata": {
    "collapsed": true,
    "slideshow": {
     "slide_type": "subslide"
    }
   },
   "outputs": [],
   "source": [
    "# mock\n",
    "import time\n",
    "\n",
    "def delay_print(msg, delay):\n",
    "    time.sleep(delay)\n",
    "    print msg\n",
    "    \n",
    "import unittest\n",
    "\n",
    "time.sleep = lambda x: True\n",
    "\n",
    "class TestDelayPrint(unittest.TestCase):\n",
    "        def test_delay_print_empty_string(self):\n",
    "            delay_print('', 5)\n",
    "            \n",
    "suite = unittest.TestLoader().loadTestsFromTestCase(TestDelayPrint)\n",
    "unittest.TextTestRunner().run(suite)"
   ]
  },
  {
   "cell_type": "markdown",
   "metadata": {
    "slideshow": {
     "slide_type": "slide"
    }
   },
   "source": [
    "### TDD\n",
    "\n",
    "![lambda](/files/images/tdd.jpg)"
   ]
  },
  {
   "cell_type": "markdown",
   "metadata": {
    "slideshow": {
     "slide_type": "subslide"
    }
   },
   "source": [
    "### Practice\n",
    "\n",
    "Generate prime factors of a number"
   ]
  },
  {
   "cell_type": "code",
   "execution_count": null,
   "metadata": {
    "collapsed": true,
    "slideshow": {
     "slide_type": "subslide"
    }
   },
   "outputs": [],
   "source": [
    "# implement a score caculator for bowling game using TDD"
   ]
  },
  {
   "cell_type": "markdown",
   "metadata": {
    "slideshow": {
     "slide_type": "slide"
    }
   },
   "source": [
    "## Iterator and Generator\n",
    "\n",
    "![iterator](/files/images/iterator.png)"
   ]
  },
  {
   "cell_type": "code",
   "execution_count": null,
   "metadata": {
    "collapsed": true,
    "slideshow": {
     "slide_type": "subslide"
    }
   },
   "outputs": [],
   "source": [
    "# iterator\n",
    "xrange(10)\n",
    "\n",
    "fp = open('access_10000.log')\n",
    "fp.next()\n",
    "fp.close()\n",
    "\n",
    "(e**2 for e in range(10))\n"
   ]
  },
  {
   "cell_type": "code",
   "execution_count": null,
   "metadata": {
    "collapsed": true,
    "slideshow": {
     "slide_type": "subslide"
    }
   },
   "outputs": [],
   "source": [
    "# generator\n",
    "def series(length):\n",
    "    for e in xrange(length):\n",
    "        yield e ** 2\n",
    "\n",
    "s = series(10)\n",
    "print [e for e in s]"
   ]
  },
  {
   "cell_type": "markdown",
   "metadata": {
    "slideshow": {
     "slide_type": "subslide"
    }
   },
   "source": [
    "### Practice"
   ]
  },
  {
   "cell_type": "code",
   "execution_count": null,
   "metadata": {
    "collapsed": true,
    "slideshow": {
     "slide_type": "fragment"
    }
   },
   "outputs": [],
   "source": [
    "# implement a fibonacci series using iterator and generator"
   ]
  },
  {
   "cell_type": "markdown",
   "metadata": {
    "slideshow": {
     "slide_type": "slide"
    }
   },
   "source": [
    "## Run in Parallel\n",
    "\n",
    "![run](/files/images/run.png)"
   ]
  },
  {
   "cell_type": "code",
   "execution_count": null,
   "metadata": {
    "collapsed": true,
    "slideshow": {
     "slide_type": "subslide"
    }
   },
   "outputs": [],
   "source": [
    "# fetch content size from a series of web sites\n",
    "import urllib\n",
    "\n",
    "urls = ['http://hztdltev01.china.nsn-net.net', 'http://10.56.117.81/coci/', 'http://coop.china.nsn-net.net']\n",
    "\n",
    "for url in urls:\n",
    "    print len(urllib.urlopen(url, proxies={}).read())"
   ]
  },
  {
   "cell_type": "code",
   "execution_count": null,
   "metadata": {
    "collapsed": true,
    "slideshow": {
     "slide_type": "subslide"
    }
   },
   "outputs": [],
   "source": [
    "# introduce thread\n",
    "from threading import Thread\n",
    "import urllib\n",
    "\n",
    "urls = ['http://hztdltev01.china.nsn-net.net', 'http://10.56.117.81/coci/', 'http://coop.china.nsn-net.net']\n",
    "\n",
    "class UrlFetchThread(Thread):\n",
    "    def __init__(self, url, *args):\n",
    "        super(UrlFetchThread, self).__init__(*args)\n",
    "        self._url = url\n",
    "        \n",
    "    def run(self):\n",
    "        print len(urllib.urlopen(self._url).read())\n",
    "        \n",
    "threads = map(UrlFetchThread, urls)\n",
    "for t in threads:\n",
    "    t.start()\n",
    "    t.join()\n",
    "    "
   ]
  },
  {
   "cell_type": "code",
   "execution_count": null,
   "metadata": {
    "collapsed": true,
    "slideshow": {
     "slide_type": "subslide"
    }
   },
   "outputs": [],
   "source": [
    "# introduce multi process\n",
    "from multiprocessing import Process\n",
    "import urllib\n",
    "\n",
    "urls = ['http://hztdltev01.china.nsn-net.net', 'http://10.56.117.81/coci/', 'http://coop.china.nsn-net.net']\n",
    "\n",
    "class UrlFetchProcess(Process):\n",
    "    def __init__(self, url, *args):\n",
    "        super(UrlFetchProcess, self).__init__(*args)\n",
    "        self._url = url\n",
    "        \n",
    "    def run(self):\n",
    "        print len(urllib.urlopen(self._url).read())\n",
    "        \n",
    "processes = map(UrlFetchProcess, urls)\n",
    "for p in processes:\n",
    "    p.start()\n",
    "    p.join()"
   ]
  },
  {
   "cell_type": "code",
   "execution_count": null,
   "metadata": {
    "collapsed": true,
    "slideshow": {
     "slide_type": "subslide"
    }
   },
   "outputs": [],
   "source": [
    "# use Pool\n",
    "from multiprocessing import Pool\n",
    "from multiprocessing.dummy import Pool as ThreadPool\n",
    "\n",
    "urls = ['http://hztdltev01.china.nsn-net.net', 'http://10.56.117.81/coci/', 'http://coop.china.nsn-net.net']\n",
    "\n",
    "def fetch_content(url):\n",
    "    print len(urllib.urlopen(url).read())\n",
    "    \n",
    "pool = Pool()\n",
    "pool.map(fetch_content, urls)\n",
    "pool.close()\n",
    "pool.join()\n",
    "\n",
    "# -----------------------------------------\n",
    "thread_pool = ThreadPool()\n",
    "thread_pool.map(fetch_content, urls)\n",
    "thread_pool.close()\n",
    "thread_pool.join()"
   ]
  },
  {
   "cell_type": "code",
   "execution_count": null,
   "metadata": {
    "collapsed": true,
    "slideshow": {
     "slide_type": "subslide"
    }
   },
   "outputs": [],
   "source": [
    "# introduce gevent\n",
    "import gevent\n",
    "from gevent import monkey\n",
    "monkey.patch_all()\n",
    "\n",
    "urls = ['http://hztdltev01.china.nsn-net.net', 'http://10.56.117.81/coci/', 'http://coop.china.nsn-net.net']\n",
    "\n",
    "def fetch_content(url):\n",
    "    print len(urllib.urlopen(url).read())\n",
    "    \n",
    "[gevent.spawn(fetch_content, url) for url in urls]\n",
    "\n",
    "gevent.wait()"
   ]
  },
  {
   "cell_type": "markdown",
   "metadata": {
    "slideshow": {
     "slide_type": "subslide"
    }
   },
   "source": [
    "### Practice"
   ]
  },
  {
   "cell_type": "code",
   "execution_count": null,
   "metadata": {
    "collapsed": false,
    "slideshow": {
     "slide_type": "fragment"
    }
   },
   "outputs": [],
   "source": [
    "# 1. implement a multi clients echo server\n",
    "# 2. the echo server can support to execute command when the echo string startswith \"!\"\n",
    "#      eg.\n",
    "#          client              ->                     server\n",
    "#           hello                                       hello\n",
    "#           !ls                                            download   desktop  workspace\n",
    "#  3. when the user send \"quit\", stop the echo server"
   ]
  },
  {
   "cell_type": "markdown",
   "metadata": {
    "slideshow": {
     "slide_type": "slide"
    }
   },
   "source": [
    "## Web Development\n",
    "\n",
    "![Python Web](/files/images/pyweb.png)"
   ]
  },
  {
   "cell_type": "code",
   "execution_count": null,
   "metadata": {
    "collapsed": false,
    "slideshow": {
     "slide_type": "subslide"
    }
   },
   "outputs": [],
   "source": [
    "# BaseHTTPServer and SimpleHTTPServer\n",
    "# python -m SimpleHTTPServer 8080\n",
    "from BaseHTTPServer import HTTPServer\n",
    "from SimpleHTTPServer import SimpleHTTPRequestHandler\n",
    "\n",
    "server = HTTPServer(('0.0.0.0', 8282), SimpleHTTPRequestHandler)\n",
    "\n",
    "server.serve_forever()"
   ]
  },
  {
   "cell_type": "markdown",
   "metadata": {
    "slideshow": {
     "slide_type": "subslide"
    }
   },
   "source": [
    "#### Dive into BaseHTTPRequestHandler"
   ]
  },
  {
   "cell_type": "markdown",
   "metadata": {
    "slideshow": {
     "slide_type": "fragment"
    }
   },
   "source": [
    "* work process\n",
    "    * setup\n",
    "    * handle\n",
    "    * finish\n",
    "* do_GET\n",
    "* do_POST\n",
    "* ..."
   ]
  },
  {
   "cell_type": "code",
   "execution_count": null,
   "metadata": {
    "collapsed": false,
    "slideshow": {
     "slide_type": "subslide"
    }
   },
   "outputs": [],
   "source": [
    "# with micro framework bottle.py\n",
    "from bottle import route, run, template\n",
    "\n",
    "@route('/hello/<name>')\n",
    "def index(name):\n",
    "    return template('<b>Hello {{name}}</b>!', name=name)\n",
    "\n",
    "run(host='localhost', port=8181)"
   ]
  },
  {
   "cell_type": "markdown",
   "metadata": {
    "slideshow": {
     "slide_type": "slide"
    }
   },
   "source": [
    "## Use the database"
   ]
  },
  {
   "cell_type": "code",
   "execution_count": null,
   "metadata": {
    "collapsed": false,
    "slideshow": {
     "slide_type": "subslide"
    }
   },
   "outputs": [],
   "source": [
    "# sqlite3\n",
    "import sqlite3 as sqlite\n",
    "\n",
    "conn = sqlite.connect('user.db')\n",
    "# create a table\n",
    "conn.execute('create table user (id, name)')\n",
    "# insert one record\n",
    "conn.execute('insert into user values (123, \"python\")')\n",
    "# query\n",
    "cursor = conn.execute('select * from user')\n",
    "try:\n",
    "    print cursor.fetchall()\n",
    "finally:\n",
    "    cursor.close()"
   ]
  },
  {
   "cell_type": "code",
   "execution_count": null,
   "metadata": {
    "collapsed": false,
    "slideshow": {
     "slide_type": "subslide"
    }
   },
   "outputs": [],
   "source": [
    "# mongodb\n",
    "import pymongo\n",
    "\n",
    "# create connection\n",
    "client = pymongo.MongoClient()\n",
    "# select database\n",
    "db = client.user\n",
    "# select collection\n",
    "collection = db.userinfo\n",
    "# insert record\n",
    "collection.insert_one({'id': 123, 'name': 'python'})\n",
    "collection.insert_one({'id': 124, 'alias': 'python'})\n",
    "# query\n",
    "print [e for e in collection.find()]"
   ]
  },
  {
   "cell_type": "markdown",
   "metadata": {
    "slideshow": {
     "slide_type": "slide"
    }
   },
   "source": [
    "## Reference\n",
    "\n",
    "* http://www.diveintopython.net/power_of_introspection/\n",
    "* https://docs.python.org/2/library/inspect.html\n",
    "* https://docs.python.org/2/howto/functional.html\n",
    "* https://en.wikipedia.org/wiki/Functional_programming\n",
    "* https://docs.python.org/2/library/functions.html#iter\n",
    "* http://butunclebob.com/files/downloads/Prime%20Factors%20Kata.ppt\n",
    "* https://blog.8thlight.com/uncle-bob/2013/05/27/TheTransformationPriorityPremise.html\n",
    "* https://wiki.python.org/moin/Generators\n",
    "* https://docs.python.org/2/library/threading.html\n",
    "* https://docs.python.org/2/library/multiprocessing.html\n",
    "* http://www.gevent.org/intro.html\n",
    "* http://bottlepy.org/docs/dev/index.html\n",
    "* http://api.mongodb.org/python/current/tutorial.html\n",
    "* https://docs.python.org/2/library/simplehttpserver.html"
   ]
  },
  {
   "cell_type": "markdown",
   "metadata": {
    "slideshow": {
     "slide_type": "slide"
    }
   },
   "source": [
    "## Q & A"
   ]
  }
 ],
 "metadata": {
  "celltoolbar": "Slideshow",
  "kernelspec": {
   "display_name": "Python 2",
   "language": "python",
   "name": "python2"
  },
  "language_info": {
   "codemirror_mode": {
    "name": "ipython",
    "version": 2
   },
   "file_extension": ".py",
   "mimetype": "text/x-python",
   "name": "python",
   "nbconvert_exporter": "python",
   "pygments_lexer": "ipython2",
   "version": "2.7.6"
  }
 },
 "nbformat": 4,
 "nbformat_minor": 0
}
