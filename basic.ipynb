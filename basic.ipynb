{
 "cells": [
  {
   "cell_type": "markdown",
   "metadata": {
    "slideshow": {
     "slide_type": "slide"
    }
   },
   "source": [
    "# Python Basic\n",
    "\n",
    "![python](https://upload.wikimedia.org/wikipedia/commons/c/c3/Python-logo-notext.svg)"
   ]
  },
  {
   "cell_type": "markdown",
   "metadata": {
    "slideshow": {
     "slide_type": "fragment"
    }
   },
   "source": [
    "\n",
    "_talk is cheap, show me the code_\n",
    "\n",
    "--- Linus Torvalds"
   ]
  },
  {
   "cell_type": "markdown",
   "metadata": {
    "slideshow": {
     "slide_type": "subslide"
    }
   },
   "source": [
    "![Guido](https://upload.wikimedia.org/wikipedia/commons/thumb/6/66/Guido_van_Rossum_OSCON_2006.jpg/250px-Guido_van_Rossum_OSCON_2006.jpg)\n",
    "Guido Van Rossum"
   ]
  },
  {
   "cell_type": "markdown",
   "metadata": {
    "slideshow": {
     "slide_type": "subslide"
    }
   },
   "source": [
    "![Guido wanted](/files/images/job.png)"
   ]
  },
  {
   "cell_type": "markdown",
   "metadata": {
    "slideshow": {
     "slide_type": "subslide"
    }
   },
   "source": [
    "## How to play"
   ]
  },
  {
   "cell_type": "markdown",
   "metadata": {
    "slideshow": {
     "slide_type": "subslide"
    }
   },
   "source": [
    "* Open http://hztdltev01.china.nsn-net.net:8888/notebooks/basic.ipynb"
   ]
  },
  {
   "cell_type": "markdown",
   "metadata": {
    "slideshow": {
     "slide_type": "subslide"
    }
   },
   "source": [
    "* Click `File` -> `Make a Copy...`\n",
    "    ![make a copy](/notebooks/images/copy.png)"
   ]
  },
  {
   "cell_type": "markdown",
   "metadata": {
    "slideshow": {
     "slide_type": "subslide"
    }
   },
   "source": [
    "* Rename the copy\n",
    "    ![rename](/notebooks/images/rename.png)"
   ]
  },
  {
   "cell_type": "markdown",
   "metadata": {
    "slideshow": {
     "slide_type": "subslide"
    }
   },
   "source": [
    "* Enter new name, and save\n",
    "    ![new name](/notebooks/images/save.png)"
   ]
  },
  {
   "cell_type": "markdown",
   "metadata": {
    "slideshow": {
     "slide_type": "slide"
    }
   },
   "source": [
    "## Setup Python Development Environment"
   ]
  },
  {
   "cell_type": "markdown",
   "metadata": {
    "slideshow": {
     "slide_type": "subslide"
    }
   },
   "source": [
    "### Install Python"
   ]
  },
  {
   "cell_type": "markdown",
   "metadata": {
    "slideshow": {
     "slide_type": "fragment"
    }
   },
   "source": [
    "* on **Linux**, it should be already there\n",
    "* on **Windows**, download it from http://python.org"
   ]
  },
  {
   "cell_type": "markdown",
   "metadata": {
    "slideshow": {
     "slide_type": "subslide"
    }
   },
   "source": [
    "### Choose an Editor"
   ]
  },
  {
   "cell_type": "markdown",
   "metadata": {
    "slideshow": {
     "slide_type": "fragment"
    }
   },
   "source": [
    "* Vim / Emacs / sublime user, keep going"
   ]
  },
  {
   "cell_type": "markdown",
   "metadata": {
    "slideshow": {
     "slide_type": "fragment"
    }
   },
   "source": [
    "* If you have no choice, **[PyCharm](http://www.jetbrains.com/pycharm/)** may be good for you"
   ]
  },
  {
   "cell_type": "markdown",
   "metadata": {
    "slideshow": {
     "slide_type": "fragment"
    }
   },
   "source": [
    "* Recommended features:\n",
    "    * expand _TAB_ to _SPACE_ automatically\n",
    "    * syntax check"
   ]
  },
  {
   "cell_type": "markdown",
   "metadata": {
    "slideshow": {
     "slide_type": "subslide"
    }
   },
   "source": [
    "### Choose an interactive shell"
   ]
  },
  {
   "cell_type": "markdown",
   "metadata": {
    "slideshow": {
     "slide_type": "fragment"
    }
   },
   "source": [
    "# IPython"
   ]
  },
  {
   "cell_type": "code",
   "execution_count": null,
   "metadata": {
    "collapsed": true,
    "slideshow": {
     "slide_type": "subslide"
    }
   },
   "outputs": [],
   "source": [
    "# ipython common features\n",
    "# 1. document\n",
    "s = 'abc'\n",
    "?s"
   ]
  },
  {
   "cell_type": "code",
   "execution_count": null,
   "metadata": {
    "collapsed": true,
    "slideshow": {
     "slide_type": "subslide"
    }
   },
   "outputs": [],
   "source": [
    "# 2. auto complete\n",
    "# s = 'abc'\n",
    "# s.<tab>\n",
    "s = 'abc'"
   ]
  },
  {
   "cell_type": "markdown",
   "metadata": {
    "slideshow": {
     "slide_type": "slide"
    }
   },
   "source": [
    "## Hello World"
   ]
  },
  {
   "cell_type": "code",
   "execution_count": null,
   "metadata": {
    "collapsed": false,
    "scrolled": true,
    "slideshow": {
     "slide_type": "subslide"
    }
   },
   "outputs": [],
   "source": [
    "# run the following code\n",
    "print 'Hello World'"
   ]
  },
  {
   "cell_type": "markdown",
   "metadata": {
    "slideshow": {
     "slide_type": "subslide"
    }
   },
   "source": [
    "### Practice"
   ]
  },
  {
   "cell_type": "code",
   "execution_count": null,
   "metadata": {
    "collapsed": true,
    "slideshow": {
     "slide_type": "fragment"
    }
   },
   "outputs": [],
   "source": [
    "# write your code to print other words like \"Hello Earh\" or anythhing else, and execute your code\n",
    "\n",
    "# further reading\n",
    "# any other methods to print out words other than \"print\"?"
   ]
  },
  {
   "cell_type": "markdown",
   "metadata": {
    "slideshow": {
     "slide_type": "slide"
    }
   },
   "source": [
    "## Use Python as a Calculator"
   ]
  },
  {
   "cell_type": "code",
   "execution_count": null,
   "metadata": {
    "collapsed": false,
    "slideshow": {
     "slide_type": "subslide"
    }
   },
   "outputs": [],
   "source": [
    "# Integer and Float\n",
    "\n",
    "a = 123\n",
    "b = 123.456\n",
    "print a + b\n",
    "print a - b\n",
    "print a * b\n",
    "print a / b\n",
    "print a % b\n",
    "print a ** b"
   ]
  },
  {
   "cell_type": "markdown",
   "metadata": {
    "slideshow": {
     "slide_type": "subslide"
    }
   },
   "source": [
    "#### Python is both dynamically and strongly typed"
   ]
  },
  {
   "cell_type": "code",
   "execution_count": null,
   "metadata": {
    "collapsed": false,
    "slideshow": {
     "slide_type": "subslide"
    }
   },
   "outputs": [],
   "source": [
    "# define a function\n",
    "\n",
    "def hello_world():\n",
    "    print 'hello world'\n",
    "\n",
    "def count(left, right):\n",
    "    return int(left) + int(right)\n",
    "\n",
    "hello_world()\n",
    "count(3, 4)"
   ]
  },
  {
   "cell_type": "markdown",
   "metadata": {
    "slideshow": {
     "slide_type": "subslide"
    }
   },
   "source": [
    "### Practice"
   ]
  },
  {
   "cell_type": "code",
   "execution_count": null,
   "metadata": {
    "collapsed": true,
    "slideshow": {
     "slide_type": "fragment"
    }
   },
   "outputs": [],
   "source": [
    "# 1. write a function, get the 1/2 of a specified number"
   ]
  },
  {
   "cell_type": "markdown",
   "metadata": {
    "slideshow": {
     "slide_type": "slide"
    }
   },
   "source": [
    "## Format your letter"
   ]
  },
  {
   "cell_type": "code",
   "execution_count": null,
   "metadata": {
    "collapsed": false,
    "slideshow": {
     "slide_type": "subslide"
    }
   },
   "outputs": [],
   "source": [
    "# Sub string\n",
    "\n",
    "s = 'hello world'\n",
    "print s[0]\n",
    "print s[0:5]\n",
    "print s[-5:]\n",
    "print s[-5:-3]"
   ]
  },
  {
   "cell_type": "code",
   "execution_count": null,
   "metadata": {
    "collapsed": false,
    "slideshow": {
     "slide_type": "subslide"
    }
   },
   "outputs": [],
   "source": [
    "# lower, upper and capitalize\n",
    "\n",
    "s = 'hello'\n",
    "print s.lower()\n",
    "print s.upper()\n",
    "print s.capitalize()"
   ]
  },
  {
   "cell_type": "code",
   "execution_count": null,
   "metadata": {
    "collapsed": false,
    "slideshow": {
     "slide_type": "subslide"
    }
   },
   "outputs": [],
   "source": [
    "# replace\n",
    "\n",
    "s = 'hello world'\n",
    "print s.replace('hello', 'Hello')"
   ]
  },
  {
   "cell_type": "code",
   "execution_count": null,
   "metadata": {
    "collapsed": false,
    "scrolled": true,
    "slideshow": {
     "slide_type": "subslide"
    }
   },
   "outputs": [],
   "source": [
    "# len\n",
    "s = 'hello world'\n",
    "print len(s)"
   ]
  },
  {
   "cell_type": "code",
   "execution_count": null,
   "metadata": {
    "collapsed": false,
    "slideshow": {
     "slide_type": "subslide"
    }
   },
   "outputs": [],
   "source": [
    "# split\n",
    "\n",
    "s = 'hello world'\n",
    "print s.split()\n",
    "print s.split(' ')\n",
    "\n",
    "# splitlines\n",
    "s1 = '''hello\n",
    "world\n",
    "and\n",
    "you'''\n",
    "print s1.splitlines()\n",
    "print s1.split('\\n')"
   ]
  },
  {
   "cell_type": "code",
   "execution_count": null,
   "metadata": {
    "collapsed": false,
    "slideshow": {
     "slide_type": "subslide"
    }
   },
   "outputs": [],
   "source": [
    "# join\n",
    "\n",
    "words = ['hello', 'world']\n",
    "print ' '.join(words)\n",
    "print '####'.join(words)"
   ]
  },
  {
   "cell_type": "markdown",
   "metadata": {
    "slideshow": {
     "slide_type": "subslide"
    }
   },
   "source": [
    "### Practice"
   ]
  },
  {
   "cell_type": "code",
   "execution_count": null,
   "metadata": {
    "collapsed": false,
    "slideshow": {
     "slide_type": "fragment"
    }
   },
   "outputs": [],
   "source": [
    "# below is a letter you prepare to send to your friend, but it is not well formated, do it using Python\n",
    "letter = 'pYthon is A  GOOD   programming     language.'\n",
    "\n",
    "# write your code below to format letter to \"PYTHON is a good programming language.\"\n",
    "# try as many solutions as you can"
   ]
  },
  {
   "cell_type": "markdown",
   "metadata": {
    "slideshow": {
     "slide_type": "slide"
    }
   },
   "source": [
    "## Find out the valid LAN ip address"
   ]
  },
  {
   "cell_type": "code",
   "execution_count": null,
   "metadata": {
    "collapsed": false,
    "slideshow": {
     "slide_type": "subslide"
    }
   },
   "outputs": [],
   "source": [
    "# bool\n",
    "\n",
    "True\n",
    "False\n",
    "\n",
    "# str.startswith\n",
    "\n",
    "s = 'abc.def.ghi'\n",
    "print s.startswith('abc.')"
   ]
  },
  {
   "cell_type": "code",
   "execution_count": null,
   "metadata": {
    "collapsed": true,
    "slideshow": {
     "slide_type": "subslide"
    }
   },
   "outputs": [],
   "source": [
    "# variable assignment\n",
    "\n",
    "l = [1, 2, 3]\n",
    "t = (1, 2, 3)\n",
    "\n",
    "a, b = (1, 2)\n",
    "a1, b1, c1, d1 = 'a.b.c.d'.split('.')"
   ]
  },
  {
   "cell_type": "code",
   "execution_count": null,
   "metadata": {
    "collapsed": false,
    "slideshow": {
     "slide_type": "subslide"
    }
   },
   "outputs": [],
   "source": [
    "# For Loop\n",
    "\n",
    "for d in (1, 2, 3, 4):\n",
    "    print d\n",
    "\n",
    "for i in range(3):\n",
    "    print i"
   ]
  },
  {
   "cell_type": "code",
   "execution_count": null,
   "metadata": {
    "collapsed": false,
    "slideshow": {
     "slide_type": "subslide"
    }
   },
   "outputs": [],
   "source": [
    "# type\n",
    "\n",
    "print type(123)\n",
    "print type('123')"
   ]
  },
  {
   "cell_type": "code",
   "execution_count": null,
   "metadata": {
    "collapsed": false,
    "slideshow": {
     "slide_type": "subslide"
    }
   },
   "outputs": [],
   "source": [
    "# data type convert\n",
    "\n",
    "str(123)\n",
    "int('123')\n"
   ]
  },
  {
   "cell_type": "code",
   "execution_count": null,
   "metadata": {
    "collapsed": false,
    "slideshow": {
     "slide_type": "subslide"
    }
   },
   "outputs": [],
   "source": [
    "# ==, !=, >, <\n",
    "\n",
    "3 > 2\n",
    "5 != 3\n",
    "4 == 4\n"
   ]
  },
  {
   "cell_type": "code",
   "execution_count": null,
   "metadata": {
    "collapsed": false,
    "slideshow": {
     "slide_type": "subslide"
    }
   },
   "outputs": [],
   "source": [
    "# if / else\n",
    "\n",
    "d = 0\n",
    "if d == 0:\n",
    "    print 'ok'\n",
    "elif d == 1:\n",
    "    print 'partial ok'\n",
    "else:\n",
    "    print 'not ok'\n"
   ]
  },
  {
   "cell_type": "markdown",
   "metadata": {
    "slideshow": {
     "slide_type": "subslide"
    }
   },
   "source": [
    "### Practice"
   ]
  },
  {
   "cell_type": "code",
   "execution_count": null,
   "metadata": {
    "collapsed": false,
    "slideshow": {
     "slide_type": "fragment"
    }
   },
   "outputs": [],
   "source": [
    "# get all valid LAN ip addresses from ips below, and print them\n",
    "ips = '''245.55.115.258\n",
    "77.73.162.244\n",
    "77.35.51.147\n",
    "47.184.67.132\n",
    "213.84.23.155\n",
    "135.64.61.154\n",
    "10.28.262.204\n",
    "185.57.173.380\n",
    "17.125.32.355\n",
    "208.235.95.310\n",
    "231.204.167.386\n",
    "17.161.342.307\n",
    "231.142.38.359\n",
    "10.25.250.237\n",
    "220.37.153.265\n",
    "59.47.18.220\n",
    "189.137.121.294\n",
    "10.185.156.227\n",
    "251.166.226.361\n",
    "8.90.224.312\n",
    "140.139.122.273\n",
    "88.60.354.153\n",
    "136.246.30.261\n",
    "66.255.297.178\n",
    "81.172.87.381\n",
    "192.168.37.199\n",
    "187.106.84.243\n",
    "211.98.181.326\n",
    "147.157.100.239\n",
    "193.80.177.152\n",
    "192.168.77.256\n",
    "100.22.335.366\n",
    "209.48.187.225\n",
    "120.231.139.279\n",
    "1.246.34.294\n",
    "190.220.37.367\n",
    "104.19.126.333\n",
    "74.1.107.351\n",
    "11.224.199.194\n",
    "170.31.309.244\n",
    "111.38.9.346\n",
    "76.217.46.146\n",
    "147.175.123.288\n",
    "234.38.158.370\n",
    "158.116.125.206\n",
    "249.30.212.211\n",
    "38.62.213.251\n",
    "13.31.169.311\n",
    "12.185.142.329\n",
    "167.109.113.370\n",
    "111.170.32.301\n",
    "98.92.217.361\n",
    "172.32.224.123\n",
    "161.80.336.140\n",
    "103.77.180.285\n",
    "231.101.148.351\n",
    "76.190.219.214\n",
    "97.64.138.305\n",
    "51.37.153.386\n",
    "216.71.274.292\n",
    "55.14.219.272\n",
    "207.5.228.186\n",
    "84.123.338.244\n",
    "172.29.97.251\n",
    "228.252.275.198\n",
    "65.141.284.144\n",
    "180.152.159.196\n",
    "202.104.286.363\n",
    "235.155.177.352\n",
    "65.208.120.268\n",
    "248.46.282.246\n",
    "60.156.201.180\n",
    "254.186.213.266\n",
    "163.78.145.314\n",
    "165.228.250.262\n",
    "248.49.249.323\n",
    "199.178.49.268\n",
    "121.199.59.175\n",
    "184.165.29.318\n",
    "31.129.176.132\n",
    "235.226.55.288\n",
    "29.49.61.349\n",
    "209.81.66.221\n",
    "172.213.245.332\n",
    "115.95.264.247\n",
    "112.128.85.350\n",
    "192.16.13.178\n",
    "73.199.39.171\n",
    "23.167.125.261\n",
    "231.157.62.194\n",
    "192.194.303.194\n",
    "4.105.223.261\n",
    "172.18.61.355\n",
    "254.99.153.277\n",
    "62.11.191.301\n",
    "188.209.11.212\n",
    "118.231.84.316\n",
    "162.174.15.200\n",
    "127.123.206.334\n",
    "170.162.91.173'''\n",
    "\n",
    "# valid LAN: https://en.wikipedia.org/wiki/Private_network#Private_IPv4_address_spaces\n",
    "# 10.0.0.0 - 10.255.255.255\n",
    "# 172.16.0.0 - 172.31.255.255\n",
    "# 192.168.0.0 - 192.168.255.255\n",
    "\n",
    "# 1. implement your code below to print all the valid LAN ip addresses\n",
    "\n",
    "# 2. is your code over 10 lines? try Built-In function \"filter\"\n"
   ]
  },
  {
   "cell_type": "markdown",
   "metadata": {
    "slideshow": {
     "slide_type": "slide"
    }
   },
   "source": [
    "## Get most active users from nginx access log"
   ]
  },
  {
   "cell_type": "code",
   "execution_count": null,
   "metadata": {
    "collapsed": true,
    "slideshow": {
     "slide_type": "subslide"
    }
   },
   "outputs": [],
   "source": [
    "# tuple\n",
    "t = (1,2,3)\n",
    "t1 = ('abc', 'def')\n",
    "t1[0]\n",
    "t2 = ('abc')\n",
    "t3 = ('abc', )\n",
    "\n",
    "# immutable"
   ]
  },
  {
   "cell_type": "code",
   "execution_count": null,
   "metadata": {
    "collapsed": false,
    "slideshow": {
     "slide_type": "subslide"
    }
   },
   "outputs": [],
   "source": [
    "# list\n",
    "\n",
    "l = [1, 2]\n",
    "l.append(3)\n",
    "l.extend([4, 5])\n",
    "\n",
    "l1 = range(6)\n",
    "l2 = l1\n",
    "l2.append(6)"
   ]
  },
  {
   "cell_type": "code",
   "execution_count": null,
   "metadata": {
    "collapsed": false,
    "slideshow": {
     "slide_type": "subslide"
    }
   },
   "outputs": [],
   "source": [
    "# set\n",
    "\n",
    "s = {1, 2,  3, 3}\n",
    "s.add(0)\n",
    "s.update({3,4,5})"
   ]
  },
  {
   "cell_type": "code",
   "execution_count": null,
   "metadata": {
    "collapsed": false,
    "slideshow": {
     "slide_type": "subslide"
    }
   },
   "outputs": [],
   "source": [
    "# dict\n",
    "\n",
    "d = {'a': 1, 'b': 2, 1: [1,2,3], ('d', 'e'): 4}\n",
    "d['a']\n",
    "\n",
    "d.keys()\n",
    "d.values()\n",
    "d.items()\n",
    "\n",
    "d['e'] = 5\n",
    "\n",
    "del(d['e'])"
   ]
  },
  {
   "cell_type": "code",
   "execution_count": null,
   "metadata": {
    "collapsed": true,
    "slideshow": {
     "slide_type": "subslide"
    }
   },
   "outputs": [],
   "source": [
    "# (tuple/list/dict/set) contains an item\n",
    "t = (1, 2, 3)\n",
    "l = [1, 2, 3]\n",
    "s = {1,2,3}\n",
    "d = {1: 'a', 2: 'b', 3: 'c'}\n",
    "\n",
    "1 in t\n",
    "1 in l\n",
    "1 in s\n",
    "1 in d"
   ]
  },
  {
   "cell_type": "code",
   "execution_count": null,
   "metadata": {
    "collapsed": true,
    "slideshow": {
     "slide_type": "subslide"
    }
   },
   "outputs": [],
   "source": [
    "# list comprehension\n",
    "l = range(3)\n",
    "l1 = [e**2 for e in l]"
   ]
  },
  {
   "cell_type": "code",
   "execution_count": null,
   "metadata": {
    "collapsed": true,
    "slideshow": {
     "slide_type": "subslide"
    }
   },
   "outputs": [],
   "source": [
    "# set comprehension\n",
    "l = range(20)\n",
    "sl = {e%2 for e in l}"
   ]
  },
  {
   "cell_type": "code",
   "execution_count": null,
   "metadata": {
    "collapsed": true,
    "slideshow": {
     "slide_type": "subslide"
    }
   },
   "outputs": [],
   "source": [
    "# dictinary comprehension\n",
    "l = range(20)\n",
    "d = {e: e**2 for e in l}"
   ]
  },
  {
   "cell_type": "code",
   "execution_count": null,
   "metadata": {
    "collapsed": false,
    "slideshow": {
     "slide_type": "subslide"
    }
   },
   "outputs": [],
   "source": [
    "# Read a file\n",
    "# solution - 1\n",
    "\n",
    "fp = open('access_10000.log')\n",
    "try:\n",
    "    fp.read() # fp.readlines() | fp.xreadlines()\n",
    "finally:\n",
    "    fp.close()\n"
   ]
  },
  {
   "cell_type": "code",
   "execution_count": null,
   "metadata": {
    "collapsed": true,
    "slideshow": {
     "slide_type": "subslide"
    }
   },
   "outputs": [],
   "source": [
    "# Read a file\n",
    "# solution - 2\n",
    "\n",
    "with open('access_10000.log') as fp:\n",
    "    for line in fp:\n",
    "        pass"
   ]
  },
  {
   "cell_type": "code",
   "execution_count": null,
   "metadata": {
    "collapsed": false,
    "slideshow": {
     "slide_type": "subslide"
    }
   },
   "outputs": [],
   "source": [
    "# define a function with dynamic parameters\n",
    "def mysum(*nums):\n",
    "    return sum(nums)\n",
    "\n",
    "def format_dict(**kws):\n",
    "    return '\\n'.join(['{} -> {}'.format(*e) for e in kws.items()])\n",
    "\n",
    "print mysum(1,2,3,4,5)\n",
    "print format_dict(a=2, b=3, c=4)"
   ]
  },
  {
   "cell_type": "markdown",
   "metadata": {
    "slideshow": {
     "slide_type": "subslide"
    }
   },
   "source": [
    "### Practice"
   ]
  },
  {
   "cell_type": "code",
   "execution_count": null,
   "metadata": {
    "collapsed": false,
    "slideshow": {
     "slide_type": "fragment"
    }
   },
   "outputs": [],
   "source": [
    "# 1. read \"access_10000.log\", get the user ip address and its visit count, print them\n",
    "\n",
    "# 2. get the top 5 active user ip addresses and their visit counts\n",
    "# HINT: Built-IN sorted function, refer to https://wiki.python.org/moin/HowTo/Sorting"
   ]
  },
  {
   "cell_type": "markdown",
   "metadata": {
    "slideshow": {
     "slide_type": "slide"
    }
   },
   "source": [
    "## Detect the fastest mirror"
   ]
  },
  {
   "cell_type": "code",
   "execution_count": null,
   "metadata": {
    "collapsed": false,
    "slideshow": {
     "slide_type": "subslide"
    }
   },
   "outputs": [],
   "source": [
    "# import an module\n",
    "import glob\n",
    "from glob import glob"
   ]
  },
  {
   "cell_type": "markdown",
   "metadata": {
    "slideshow": {
     "slide_type": "subslide"
    }
   },
   "source": [
    "#### PYTHONPATH\n",
    "\n",
    "* export PYTHONPATH=<>\n",
    "* set PYTHONPATH=<>"
   ]
  },
  {
   "cell_type": "code",
   "execution_count": null,
   "metadata": {
    "collapsed": false,
    "slideshow": {
     "slide_type": "subslide"
    }
   },
   "outputs": [],
   "source": [
    "import sys\n",
    "print sys.path"
   ]
  },
  {
   "cell_type": "code",
   "execution_count": null,
   "metadata": {
    "collapsed": true,
    "slideshow": {
     "slide_type": "subslide"
    }
   },
   "outputs": [],
   "source": [
    "# subprocess\n",
    "import subprocess\n",
    "\n",
    "subprocess.call(['ping', '-c', '1', '-W', '1', '127.0.0.1'], stdout=subprocess.PIPE, stderr=subprocess.PIPE)"
   ]
  },
  {
   "cell_type": "code",
   "execution_count": null,
   "metadata": {
    "collapsed": true,
    "slideshow": {
     "slide_type": "subslide"
    }
   },
   "outputs": [],
   "source": [
    "# subprocess get the output (python2.7+)\n",
    "import subprocess\n",
    "\n",
    "subprocess.check_output(['ping', '-c', '1', '-W', '1', '127.0.0.1'])"
   ]
  },
  {
   "cell_type": "markdown",
   "metadata": {
    "slideshow": {
     "slide_type": "subslide"
    }
   },
   "source": [
    "### Practice"
   ]
  },
  {
   "cell_type": "code",
   "execution_count": null,
   "metadata": {
    "collapsed": false,
    "slideshow": {
     "slide_type": "fragment"
    }
   },
   "outputs": [],
   "source": [
    "# 1. There is a set of IP addresses 10.140.[22-32].[10-181], find out the fastest server and print its address, there is a draft code below\n",
    "# but unfortunately it is not finished.\n",
    "# HINT: ping -c 1 10.140.22.33\n",
    "# 2. improve the performance\n",
    "import itertools\n",
    "import subprocess\n",
    "\n",
    "ips = itertools.product((10, ), (140, ), range(22, 33), range(10, 182))\n",
    "\n",
    "def get_response_time(ip):\n",
    "    try:\n",
    "        pass\n",
    "    except subprocess.CalledProcessError:\n",
    "        pass\n",
    "\n",
    "    return (ip, None)\n",
    "\n",
    "resps = map(get_response_time, ips)\n",
    "reachable_resps = filter(lambda (ip, resp): resp != None, resps)\n",
    "\n",
    "print min(reachable_resps, key=lambda (ip, resp): resp)\n"
   ]
  },
  {
   "cell_type": "markdown",
   "metadata": {
    "slideshow": {
     "slide_type": "slide"
    }
   },
   "source": [
    "## Zen of Python"
   ]
  },
  {
   "cell_type": "code",
   "execution_count": null,
   "metadata": {
    "collapsed": false,
    "scrolled": true,
    "slideshow": {
     "slide_type": "subslide"
    }
   },
   "outputs": [],
   "source": [
    "import this"
   ]
  },
  {
   "cell_type": "code",
   "execution_count": null,
   "metadata": {
    "collapsed": false,
    "slideshow": {
     "slide_type": "subslide"
    }
   },
   "outputs": [],
   "source": [
    "# Bad example\n",
    "s = \"\"\"Gur Mra bs Clguba, ol Gvz Crgref\n",
    "\n",
    "Ornhgvshy vf orggre guna htyl.\n",
    "Rkcyvpvg vf orggre guna vzcyvpvg.\n",
    "Fvzcyr vf orggre guna pbzcyrk.\n",
    "Pbzcyrk vf orggre guna pbzcyvpngrq.\n",
    "Syng vf orggre guna arfgrq.\n",
    "Fcnefr vf orggre guna qrafr.\n",
    "Ernqnovyvgl pbhagf.\n",
    "Fcrpvny pnfrf nera'g fcrpvny rabhtu gb oernx gur ehyrf.\n",
    "Nygubhtu cenpgvpnyvgl orngf chevgl.\n",
    "Reebef fubhyq arire cnff fvyragyl.\n",
    "Hayrff rkcyvpvgyl fvyraprq.\n",
    "Va gur snpr bs nzovthvgl, ershfr gur grzcgngvba gb thrff.\n",
    "Gurer fubhyq or bar-- naq cersrenoyl bayl bar --boivbhf jnl gb qb vg.\n",
    "Nygubhtu gung jnl znl abg or boivbhf ng svefg hayrff lbh'er Qhgpu.\n",
    "Abj vf orggre guna arire.\n",
    "Nygubhtu arire vf bsgra orggre guna *evtug* abj.\n",
    "Vs gur vzcyrzragngvba vf uneq gb rkcynva, vg'f n onq vqrn.\n",
    "Vs gur vzcyrzragngvba vf rnfl gb rkcynva, vg znl or n tbbq vqrn.\n",
    "Anzrfcnprf ner bar ubaxvat terng vqrn -- yrg'f qb zber bs gubfr!\"\"\"\n",
    "\n",
    "d = {}\n",
    "for c in (65, 97):\n",
    "    for i in range(26):\n",
    "        d[chr(i+c)] = chr((i+13) % 26 + c)\n",
    "\n",
    "print \"\".join([d.get(c, c) for c in s])"
   ]
  },
  {
   "cell_type": "markdown",
   "metadata": {
    "slideshow": {
     "slide_type": "slide"
    }
   },
   "source": [
    "## Further Reading"
   ]
  },
  {
   "cell_type": "markdown",
   "metadata": {
    "slideshow": {
     "slide_type": "fragment"
    }
   },
   "source": [
    "* https://docs.python.org/2/tutorial/index.html\n",
    "* http://www.swaroopch.com/notes/python/\n",
    "* http://learnpythonthehardway.org/book/"
   ]
  },
  {
   "cell_type": "markdown",
   "metadata": {
    "slideshow": {
     "slide_type": "slide"
    }
   },
   "source": [
    "## Homework"
   ]
  },
  {
   "cell_type": "markdown",
   "metadata": {
    "slideshow": {
     "slide_type": "fragment"
    }
   },
   "source": [
    "[Game of Life](https://en.wikipedia.org/wiki/Conway%27s_Game_of_Life)\n",
    "\n",
    "1. Use `Python` to implement `Game of Life`\n",
    "1. Try to implement without using mouse\n",
    "1. Refactoring your solution, make sure every functions are less than 5 lines\n",
    "1. Refactoring your solution, remove `if/else` statement"
   ]
  },
  {
   "cell_type": "markdown",
   "metadata": {
    "slideshow": {
     "slide_type": "skip"
    }
   },
   "source": [
    "## Feedback\n",
    ">put your feedback here\n",
    "\n"
   ]
  }
 ],
 "metadata": {
  "celltoolbar": "Slideshow",
  "kernelspec": {
   "display_name": "Python 2",
   "language": "python",
   "name": "python2"
  },
  "language_info": {
   "codemirror_mode": {
    "name": "ipython",
    "version": 2
   },
   "file_extension": ".py",
   "mimetype": "text/x-python",
   "name": "python",
   "nbconvert_exporter": "python",
   "pygments_lexer": "ipython2",
   "version": "2.7.6"
  }
 },
 "nbformat": 4,
 "nbformat_minor": 0
}
